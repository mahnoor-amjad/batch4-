{
 "cells": [
  {
   "cell_type": "markdown",
   "id": "e9bd0bf7-b2d5-415a-8fbd-7c8ba56ea563",
   "metadata": {},
   "source": [
    "## Comparison Operators (== , != , < , > , >= , <=)"
   ]
  },
  {
   "cell_type": "markdown",
   "id": "3843b6d5-0c64-403a-9f17-6e8f6b10a610",
   "metadata": {},
   "source": [
    "#### Comparison operators are used to compare two values. These operators return a Boolean value (True or False)"
   ]
  },
  {
   "cell_type": "code",
   "execution_count": 1,
   "id": "b50fadb0-e8c1-4df4-9747-151871efcdaf",
   "metadata": {},
   "outputs": [],
   "source": [
    "x = 1\n",
    "y = 2\n",
    "z = 4\n",
    "p = 2"
   ]
  },
  {
   "cell_type": "code",
   "execution_count": 7,
   "id": "10db8257-fd02-400a-a59e-44bd280db4ec",
   "metadata": {},
   "outputs": [
    {
     "data": {
      "text/plain": [
       "False"
      ]
     },
     "execution_count": 7,
     "metadata": {},
     "output_type": "execute_result"
    }
   ],
   "source": [
    "x == y #equal to"
   ]
  },
  {
   "cell_type": "code",
   "execution_count": 3,
   "id": "c2583c5a-0189-4361-b0c4-0a1e239614c2",
   "metadata": {},
   "outputs": [
    {
     "data": {
      "text/plain": [
       "1"
      ]
     },
     "execution_count": 3,
     "metadata": {},
     "output_type": "execute_result"
    }
   ],
   "source": [
    "x"
   ]
  },
  {
   "cell_type": "code",
   "execution_count": 5,
   "id": "e6d424ff-40aa-4f39-9b1f-c379ade82eae",
   "metadata": {},
   "outputs": [
    {
     "data": {
      "text/plain": [
       "2"
      ]
     },
     "execution_count": 5,
     "metadata": {},
     "output_type": "execute_result"
    }
   ],
   "source": [
    "y"
   ]
  },
  {
   "cell_type": "code",
   "execution_count": 9,
   "id": "21c7269a-633e-4536-a894-fd0779ca6316",
   "metadata": {},
   "outputs": [
    {
     "data": {
      "text/plain": [
       "True"
      ]
     },
     "execution_count": 9,
     "metadata": {},
     "output_type": "execute_result"
    }
   ],
   "source": [
    "x != y #not equal to"
   ]
  },
  {
   "cell_type": "code",
   "execution_count": 11,
   "id": "c5fe452d-8494-4e5a-9bac-f7d4b1d9c21d",
   "metadata": {},
   "outputs": [
    {
     "data": {
      "text/plain": [
       "True"
      ]
     },
     "execution_count": 11,
     "metadata": {},
     "output_type": "execute_result"
    }
   ],
   "source": [
    "1 != 3"
   ]
  },
  {
   "cell_type": "code",
   "execution_count": 13,
   "id": "b3116a12-2821-480a-b37a-6566b82bd084",
   "metadata": {},
   "outputs": [
    {
     "data": {
      "text/plain": [
       "False"
      ]
     },
     "execution_count": 13,
     "metadata": {},
     "output_type": "execute_result"
    }
   ],
   "source": [
    "1 > 5"
   ]
  },
  {
   "cell_type": "code",
   "execution_count": 15,
   "id": "1832808e-399e-40cd-939f-d883f8cfd76c",
   "metadata": {},
   "outputs": [
    {
     "data": {
      "text/plain": [
       "True"
      ]
     },
     "execution_count": 15,
     "metadata": {},
     "output_type": "execute_result"
    }
   ],
   "source": [
    "1 < 5"
   ]
  },
  {
   "cell_type": "code",
   "execution_count": 17,
   "id": "618de188-3e31-49c2-82a8-679955eecc7f",
   "metadata": {},
   "outputs": [
    {
     "data": {
      "text/plain": [
       "True"
      ]
     },
     "execution_count": 17,
     "metadata": {},
     "output_type": "execute_result"
    }
   ],
   "source": [
    "2 >= 1"
   ]
  },
  {
   "cell_type": "code",
   "execution_count": 19,
   "id": "7958611c-51dd-4c5e-9a64-9392585d9c14",
   "metadata": {},
   "outputs": [
    {
     "data": {
      "text/plain": [
       "True"
      ]
     },
     "execution_count": 19,
     "metadata": {},
     "output_type": "execute_result"
    }
   ],
   "source": [
    "2 >= 2"
   ]
  },
  {
   "cell_type": "code",
   "execution_count": 21,
   "id": "d36ea04f-6481-4517-b16a-add8d74ce6f6",
   "metadata": {},
   "outputs": [
    {
     "data": {
      "text/plain": [
       "False"
      ]
     },
     "execution_count": 21,
     "metadata": {},
     "output_type": "execute_result"
    }
   ],
   "source": [
    "2 <= 1"
   ]
  },
  {
   "cell_type": "code",
   "execution_count": 23,
   "id": "f9b6aeec-799e-429a-9d21-3d91f9993662",
   "metadata": {},
   "outputs": [
    {
     "data": {
      "text/plain": [
       "True"
      ]
     },
     "execution_count": 23,
     "metadata": {},
     "output_type": "execute_result"
    }
   ],
   "source": [
    "2 <= 3"
   ]
  },
  {
   "cell_type": "code",
   "execution_count": 25,
   "id": "d6522d73-4a12-4c45-bd95-e8e567763acc",
   "metadata": {},
   "outputs": [
    {
     "data": {
      "text/plain": [
       "True"
      ]
     },
     "execution_count": 25,
     "metadata": {},
     "output_type": "execute_result"
    }
   ],
   "source": [
    "10 <= 10"
   ]
  },
  {
   "cell_type": "markdown",
   "id": "29f5add1-9efc-493d-a485-3c2a04b9945f",
   "metadata": {},
   "source": [
    "## Assignment Operators (*=, +=, -=)"
   ]
  },
  {
   "cell_type": "markdown",
   "id": "3d0d17ac-f36f-44e4-aff5-a22a3eacc982",
   "metadata": {},
   "source": [
    "#### Operators that are used to assign a value to a variable, and in some cases, update the variable’s existing value."
   ]
  },
  {
   "cell_type": "code",
   "execution_count": 27,
   "id": "96ad3544-b932-4d69-b29a-7f3d881a6ab0",
   "metadata": {},
   "outputs": [
    {
     "data": {
      "text/plain": [
       "10"
      ]
     },
     "execution_count": 27,
     "metadata": {},
     "output_type": "execute_result"
    }
   ],
   "source": [
    "x = 10\n",
    "x"
   ]
  },
  {
   "cell_type": "code",
   "execution_count": 29,
   "id": "2cc75bef-ac0e-43d5-8b1b-d9a29dd528e0",
   "metadata": {},
   "outputs": [
    {
     "data": {
      "text/plain": [
       "13"
      ]
     },
     "execution_count": 29,
     "metadata": {},
     "output_type": "execute_result"
    }
   ],
   "source": [
    "x + 3"
   ]
  },
  {
   "cell_type": "code",
   "execution_count": 31,
   "id": "e4027e56-ac2e-4d81-a234-43d37ba521ee",
   "metadata": {},
   "outputs": [
    {
     "data": {
      "text/plain": [
       "10"
      ]
     },
     "execution_count": 31,
     "metadata": {},
     "output_type": "execute_result"
    }
   ],
   "source": [
    "x"
   ]
  },
  {
   "cell_type": "code",
   "execution_count": 33,
   "id": "c2c16de0-1ee1-45b7-9ab5-1adb7d61c65b",
   "metadata": {},
   "outputs": [],
   "source": [
    "x = x + 3"
   ]
  },
  {
   "cell_type": "code",
   "execution_count": 35,
   "id": "830ba976-e1e4-4932-ae4f-5c8a27a1ba3a",
   "metadata": {},
   "outputs": [
    {
     "data": {
      "text/plain": [
       "13"
      ]
     },
     "execution_count": 35,
     "metadata": {},
     "output_type": "execute_result"
    }
   ],
   "source": [
    "x"
   ]
  },
  {
   "cell_type": "code",
   "execution_count": 39,
   "id": "90b01343-8235-4185-9d5a-2be226eef7d9",
   "metadata": {},
   "outputs": [],
   "source": [
    "x += 2"
   ]
  },
  {
   "cell_type": "code",
   "execution_count": 37,
   "id": "4873cd23-b2cf-4747-bf62-2359cf158d18",
   "metadata": {},
   "outputs": [
    {
     "data": {
      "text/plain": [
       "13"
      ]
     },
     "execution_count": 37,
     "metadata": {},
     "output_type": "execute_result"
    }
   ],
   "source": [
    "x"
   ]
  },
  {
   "cell_type": "code",
   "execution_count": 41,
   "id": "89a88450-e839-4887-8351-b9f887a99bc0",
   "metadata": {},
   "outputs": [
    {
     "data": {
      "text/plain": [
       "15"
      ]
     },
     "execution_count": 41,
     "metadata": {},
     "output_type": "execute_result"
    }
   ],
   "source": [
    "x"
   ]
  },
  {
   "cell_type": "code",
   "execution_count": 43,
   "id": "940f501b-74eb-4310-8927-1ed81e931ba5",
   "metadata": {},
   "outputs": [
    {
     "data": {
      "text/plain": [
       "11"
      ]
     },
     "execution_count": 43,
     "metadata": {},
     "output_type": "execute_result"
    }
   ],
   "source": [
    "x -= 4\n",
    "x"
   ]
  },
  {
   "cell_type": "code",
   "execution_count": 45,
   "id": "5c1ee15b-3df4-4688-9732-91a76ae8b6c3",
   "metadata": {},
   "outputs": [],
   "source": [
    "y = 3"
   ]
  },
  {
   "cell_type": "code",
   "execution_count": 47,
   "id": "bd457444-4083-4e55-ba62-bebcb153af9b",
   "metadata": {},
   "outputs": [
    {
     "data": {
      "text/plain": [
       "3"
      ]
     },
     "execution_count": 47,
     "metadata": {},
     "output_type": "execute_result"
    }
   ],
   "source": [
    "y"
   ]
  },
  {
   "cell_type": "code",
   "execution_count": 49,
   "id": "b9554bdd-77a6-4724-95ba-013c4c587086",
   "metadata": {},
   "outputs": [
    {
     "data": {
      "text/plain": [
       "6"
      ]
     },
     "execution_count": 49,
     "metadata": {},
     "output_type": "execute_result"
    }
   ],
   "source": [
    "y *= 2\n",
    "y"
   ]
  },
  {
   "cell_type": "markdown",
   "id": "5735957a-42af-45d0-a521-9f6f4c492f84",
   "metadata": {},
   "source": [
    "## Logical Operator (and, or, not)"
   ]
  },
  {
   "cell_type": "markdown",
   "id": "9644cc50-e5de-4ee8-b380-631c5a8c17f5",
   "metadata": {},
   "source": [
    "#### Logical operators allow you to combine multiple conditions into one complex condition. These operators are commonly used to combine relational conditions and make decisions based on multiple criteria."
   ]
  },
  {
   "cell_type": "code",
   "execution_count": 51,
   "id": "97edea5d-f97d-463d-99ae-c5378dd2faca",
   "metadata": {},
   "outputs": [],
   "source": [
    "x = 1\n",
    "y = 2\n",
    "z = 4\n",
    "p = 9\n",
    "a = 5\n",
    "b = 6\n",
    "u = 2 "
   ]
  },
  {
   "cell_type": "code",
   "execution_count": 53,
   "id": "41c78a78-da16-40e4-9056-a6de12cff7f2",
   "metadata": {},
   "outputs": [
    {
     "data": {
      "text/plain": [
       "False"
      ]
     },
     "execution_count": 53,
     "metadata": {},
     "output_type": "execute_result"
    }
   ],
   "source": [
    "x > y"
   ]
  },
  {
   "cell_type": "code",
   "execution_count": 55,
   "id": "32d03b1d-856f-48c8-987d-860237b9e1a2",
   "metadata": {},
   "outputs": [
    {
     "data": {
      "text/plain": [
       "True"
      ]
     },
     "execution_count": 55,
     "metadata": {},
     "output_type": "execute_result"
    }
   ],
   "source": [
    "x < y"
   ]
  },
  {
   "cell_type": "code",
   "execution_count": 57,
   "id": "c96dd3f0-8662-4373-8917-05ac83568b96",
   "metadata": {},
   "outputs": [
    {
     "data": {
      "text/plain": [
       "True"
      ]
     },
     "execution_count": 57,
     "metadata": {},
     "output_type": "execute_result"
    }
   ],
   "source": [
    "a > z"
   ]
  },
  {
   "cell_type": "code",
   "execution_count": 59,
   "id": "add64f98-ef3e-4c7b-ba5e-a80913d5814c",
   "metadata": {},
   "outputs": [
    {
     "data": {
      "text/plain": [
       "True"
      ]
     },
     "execution_count": 59,
     "metadata": {},
     "output_type": "execute_result"
    }
   ],
   "source": [
    "x < y and a > z"
   ]
  },
  {
   "cell_type": "code",
   "execution_count": 61,
   "id": "b18d677c-8610-46e8-85a8-1152bfc4a401",
   "metadata": {},
   "outputs": [
    {
     "data": {
      "text/plain": [
       "False"
      ]
     },
     "execution_count": 61,
     "metadata": {},
     "output_type": "execute_result"
    }
   ],
   "source": [
    "x > y and a > z"
   ]
  },
  {
   "cell_type": "code",
   "execution_count": 65,
   "id": "681e1a67-5b42-46af-838a-7431c43ea31e",
   "metadata": {},
   "outputs": [
    {
     "data": {
      "text/plain": [
       "False"
      ]
     },
     "execution_count": 65,
     "metadata": {},
     "output_type": "execute_result"
    }
   ],
   "source": [
    "11 > 9 and (9 > 4 and 5 < 2)"
   ]
  },
  {
   "cell_type": "code",
   "execution_count": 63,
   "id": "16ec768e-b37a-4e71-8685-d865ae88473b",
   "metadata": {},
   "outputs": [
    {
     "data": {
      "text/plain": [
       "True"
      ]
     },
     "execution_count": 63,
     "metadata": {},
     "output_type": "execute_result"
    }
   ],
   "source": [
    "11>9"
   ]
  },
  {
   "cell_type": "code",
   "execution_count": 73,
   "id": "2a122837-c93e-4b8a-8a8b-de843c43166c",
   "metadata": {},
   "outputs": [
    {
     "data": {
      "text/plain": [
       "False"
      ]
     },
     "execution_count": 73,
     "metadata": {},
     "output_type": "execute_result"
    }
   ],
   "source": [
    "(9 > 4 and 5 < 2)"
   ]
  },
  {
   "cell_type": "code",
   "execution_count": 71,
   "id": "ad4ae7df-e08c-4369-a1d7-7b71db5b9c01",
   "metadata": {},
   "outputs": [
    {
     "data": {
      "text/plain": [
       "True"
      ]
     },
     "execution_count": 71,
     "metadata": {},
     "output_type": "execute_result"
    }
   ],
   "source": [
    " 2 > 3 or 3 < 4"
   ]
  },
  {
   "cell_type": "code",
   "execution_count": 75,
   "id": "89a3a0a4-1424-466a-b1f5-8e60f9bb98ec",
   "metadata": {},
   "outputs": [
    {
     "data": {
      "text/plain": [
       "False"
      ]
     },
     "execution_count": 75,
     "metadata": {},
     "output_type": "execute_result"
    }
   ],
   "source": [
    "2 > 3"
   ]
  },
  {
   "cell_type": "code",
   "execution_count": 69,
   "id": "ba5a6867-63d7-4cb9-a1e5-03e9f4c18597",
   "metadata": {},
   "outputs": [
    {
     "data": {
      "text/plain": [
       "True"
      ]
     },
     "execution_count": 69,
     "metadata": {},
     "output_type": "execute_result"
    }
   ],
   "source": [
    "3 < 4"
   ]
  },
  {
   "cell_type": "code",
   "execution_count": 79,
   "id": "3ce475f8-5d70-4ded-9c6e-52ddfd51f1c5",
   "metadata": {},
   "outputs": [
    {
     "data": {
      "text/plain": [
       "False"
      ]
     },
     "execution_count": 79,
     "metadata": {},
     "output_type": "execute_result"
    }
   ],
   "source": [
    "not 3 < 4"
   ]
  },
  {
   "cell_type": "code",
   "execution_count": 85,
   "id": "4651007e-38a2-4b5a-9524-3a9687a8a645",
   "metadata": {},
   "outputs": [
    {
     "data": {
      "text/plain": [
       "True"
      ]
     },
     "execution_count": 85,
     "metadata": {},
     "output_type": "execute_result"
    }
   ],
   "source": [
    "not (11 > 3) or (11 > 9 and 9 == 9)"
   ]
  },
  {
   "cell_type": "code",
   "execution_count": 87,
   "id": "d028a340-0d54-4b08-bbe1-8dd11a68e393",
   "metadata": {},
   "outputs": [
    {
     "data": {
      "text/plain": [
       "True"
      ]
     },
     "execution_count": 87,
     "metadata": {},
     "output_type": "execute_result"
    }
   ],
   "source": [
    "11 > 3"
   ]
  },
  {
   "cell_type": "code",
   "execution_count": 81,
   "id": "cf18640a-2ab7-4fb0-a8e6-8b734a51c40d",
   "metadata": {},
   "outputs": [
    {
     "data": {
      "text/plain": [
       "False"
      ]
     },
     "execution_count": 81,
     "metadata": {},
     "output_type": "execute_result"
    }
   ],
   "source": [
    "not (11 > 3)"
   ]
  },
  {
   "cell_type": "code",
   "execution_count": 83,
   "id": "096ab497-d68a-4c47-aa29-e50ddbb738dd",
   "metadata": {},
   "outputs": [
    {
     "data": {
      "text/plain": [
       "True"
      ]
     },
     "execution_count": 83,
     "metadata": {},
     "output_type": "execute_result"
    }
   ],
   "source": [
    "(11 > 9 and 9 == 9)"
   ]
  },
  {
   "cell_type": "code",
   "execution_count": 89,
   "id": "8b84cc75-fcbe-4fa6-9383-27271321d993",
   "metadata": {},
   "outputs": [
    {
     "data": {
      "text/plain": [
       "False"
      ]
     },
     "execution_count": 89,
     "metadata": {},
     "output_type": "execute_result"
    }
   ],
   "source": [
    "not (11 > 3) and (11 > 9 and 9 == 9)"
   ]
  },
  {
   "cell_type": "code",
   "execution_count": 95,
   "id": "c56fd81f-3f30-4161-a733-8807b16db317",
   "metadata": {},
   "outputs": [
    {
     "data": {
      "text/plain": [
       "False"
      ]
     },
     "execution_count": 95,
     "metadata": {},
     "output_type": "execute_result"
    }
   ],
   "source": [
    "2 > 3 or 1 > 2"
   ]
  },
  {
   "cell_type": "markdown",
   "id": "e4014530-b5fd-4d94-9ead-78e5d55e9ea2",
   "metadata": {},
   "source": [
    "### Membership Operators (IN - NOT IN)"
   ]
  },
  {
   "cell_type": "markdown",
   "id": "5a893359-557c-4ec0-aa9e-fbdd3f2ffa7c",
   "metadata": {},
   "source": [
    "#### Membership operators are used to test whether a value is present in a sequence (such as a list, tuple, or string). (returns Ture or False)"
   ]
  },
  {
   "cell_type": "code",
   "execution_count": 97,
   "id": "a245bcb0-f42b-4fdc-88ca-80eed920fe38",
   "metadata": {},
   "outputs": [
    {
     "data": {
      "text/plain": [
       "'Python'"
      ]
     },
     "execution_count": 97,
     "metadata": {},
     "output_type": "execute_result"
    }
   ],
   "source": [
    "text = 'Python'\n",
    "text"
   ]
  },
  {
   "cell_type": "code",
   "execution_count": 99,
   "id": "0b489511-68d0-4549-a39c-079055fa3c41",
   "metadata": {},
   "outputs": [
    {
     "data": {
      "text/plain": [
       "True"
      ]
     },
     "execution_count": 99,
     "metadata": {},
     "output_type": "execute_result"
    }
   ],
   "source": [
    "'P' in text"
   ]
  },
  {
   "cell_type": "code",
   "execution_count": 101,
   "id": "1ea4d0b5-edaa-4111-bc8e-2583e32a970e",
   "metadata": {},
   "outputs": [
    {
     "data": {
      "text/plain": [
       "False"
      ]
     },
     "execution_count": 101,
     "metadata": {},
     "output_type": "execute_result"
    }
   ],
   "source": [
    "'p' in text"
   ]
  },
  {
   "cell_type": "code",
   "execution_count": 103,
   "id": "f1f463e7-0044-47c9-b3c2-42d778b80af1",
   "metadata": {},
   "outputs": [
    {
     "data": {
      "text/plain": [
       "True"
      ]
     },
     "execution_count": 103,
     "metadata": {},
     "output_type": "execute_result"
    }
   ],
   "source": [
    "'p' not in text"
   ]
  },
  {
   "cell_type": "code",
   "execution_count": 105,
   "id": "ea5c7287-991c-4eaa-9157-7e4a17919c49",
   "metadata": {},
   "outputs": [
    {
     "ename": "SyntaxError",
     "evalue": "invalid syntax (2203614702.py, line 1)",
     "output_type": "error",
     "traceback": [
      "\u001b[1;36m  Cell \u001b[1;32mIn[105], line 1\u001b[1;36m\u001b[0m\n\u001b[1;33m    'p' in not text\u001b[0m\n\u001b[1;37m           ^\u001b[0m\n\u001b[1;31mSyntaxError\u001b[0m\u001b[1;31m:\u001b[0m invalid syntax\n"
     ]
    }
   ],
   "source": [
    "'p' in not text"
   ]
  },
  {
   "cell_type": "code",
   "execution_count": 109,
   "id": "fb2a46be-06cd-43e7-b5ad-76d212752cb0",
   "metadata": {},
   "outputs": [
    {
     "data": {
      "text/plain": [
       "True"
      ]
     },
     "execution_count": 109,
     "metadata": {},
     "output_type": "execute_result"
    }
   ],
   "source": [
    "'P' in 'Python'"
   ]
  },
  {
   "cell_type": "code",
   "execution_count": 111,
   "id": "8a7bde93-ea92-456b-9690-439ea4fda225",
   "metadata": {},
   "outputs": [
    {
     "data": {
      "text/plain": [
       "False"
      ]
     },
     "execution_count": 111,
     "metadata": {},
     "output_type": "execute_result"
    }
   ],
   "source": [
    "'P' not in 'Python'"
   ]
  },
  {
   "cell_type": "code",
   "execution_count": 107,
   "id": "a994dfe7-d7d9-4a9d-9816-35f0d90c7f0a",
   "metadata": {},
   "outputs": [
    {
     "data": {
      "text/plain": [
       "['red', 'green', 'black']"
      ]
     },
     "execution_count": 107,
     "metadata": {},
     "output_type": "execute_result"
    }
   ],
   "source": [
    "color = ['red', 'green', 'black']\n",
    "color"
   ]
  },
  {
   "cell_type": "code",
   "execution_count": 113,
   "id": "4900d873-4356-42f6-b3a8-9ea2a5ebc5aa",
   "metadata": {},
   "outputs": [
    {
     "data": {
      "text/plain": [
       "True"
      ]
     },
     "execution_count": 113,
     "metadata": {},
     "output_type": "execute_result"
    }
   ],
   "source": [
    "'red' in color"
   ]
  },
  {
   "cell_type": "code",
   "execution_count": 115,
   "id": "292c965e-22ed-418e-892c-9834eca7a0b7",
   "metadata": {},
   "outputs": [
    {
     "data": {
      "text/plain": [
       "False"
      ]
     },
     "execution_count": 115,
     "metadata": {},
     "output_type": "execute_result"
    }
   ],
   "source": [
    "'yellow' in color"
   ]
  },
  {
   "cell_type": "code",
   "execution_count": 117,
   "id": "cbe2570a-66c6-4b2e-9e44-50817a711127",
   "metadata": {},
   "outputs": [
    {
     "data": {
      "text/plain": [
       "False"
      ]
     },
     "execution_count": 117,
     "metadata": {},
     "output_type": "execute_result"
    }
   ],
   "source": [
    "'r' in color"
   ]
  },
  {
   "cell_type": "code",
   "execution_count": 119,
   "id": "6272090e-a362-447a-9cc9-6aa6393cb1c9",
   "metadata": {},
   "outputs": [
    {
     "data": {
      "text/plain": [
       "True"
      ]
     },
     "execution_count": 119,
     "metadata": {},
     "output_type": "execute_result"
    }
   ],
   "source": [
    "'r' in 'red'"
   ]
  },
  {
   "cell_type": "code",
   "execution_count": 121,
   "id": "5d2eadce-04f0-4f03-a42d-2fa09d068428",
   "metadata": {},
   "outputs": [
    {
     "data": {
      "text/plain": [
       "'python programming'"
      ]
     },
     "execution_count": 121,
     "metadata": {},
     "output_type": "execute_result"
    }
   ],
   "source": [
    "code = 'python programming'\n",
    "code"
   ]
  },
  {
   "cell_type": "code",
   "execution_count": 123,
   "id": "1d562db3-b42b-4eb7-b6fd-03e553f7b61d",
   "metadata": {},
   "outputs": [
    {
     "data": {
      "text/plain": [
       "' '"
      ]
     },
     "execution_count": 123,
     "metadata": {},
     "output_type": "execute_result"
    }
   ],
   "source": [
    "code[6]"
   ]
  },
  {
   "cell_type": "code",
   "execution_count": 125,
   "id": "dcde9613-d382-4bae-b16b-8641afd111dd",
   "metadata": {},
   "outputs": [
    {
     "data": {
      "text/plain": [
       "'p'"
      ]
     },
     "execution_count": 125,
     "metadata": {},
     "output_type": "execute_result"
    }
   ],
   "source": [
    "code[0]"
   ]
  },
  {
   "cell_type": "code",
   "execution_count": 129,
   "id": "41ecd421-5602-4616-92b6-54dbdb854e50",
   "metadata": {},
   "outputs": [
    {
     "data": {
      "text/plain": [
       "'thon '"
      ]
     },
     "execution_count": 129,
     "metadata": {},
     "output_type": "execute_result"
    }
   ],
   "source": [
    "code[2:7]"
   ]
  },
  {
   "cell_type": "markdown",
   "id": "a9c6008a-6c34-4ee0-93fd-7697aaaa3c72",
   "metadata": {},
   "source": [
    "#### Practice Questions"
   ]
  },
  {
   "cell_type": "code",
   "execution_count": null,
   "id": "6880c34e-10a1-4f3f-abfa-f11ea305e39e",
   "metadata": {},
   "outputs": [],
   "source": [
    "# Check if a person is old enough to vote (age >= 18). Just print the Boolean result."
   ]
  },
  {
   "cell_type": "code",
   "execution_count": 131,
   "id": "2a930139-8177-4f07-855d-27a8a736971e",
   "metadata": {},
   "outputs": [
    {
     "data": {
      "text/plain": [
       "True"
      ]
     },
     "execution_count": 131,
     "metadata": {},
     "output_type": "execute_result"
    }
   ],
   "source": [
    "age = 23\n",
    "age >= 18"
   ]
  },
  {
   "cell_type": "code",
   "execution_count": null,
   "id": "1346d7c2-f780-4e84-8c0e-677414ce32d4",
   "metadata": {},
   "outputs": [],
   "source": [
    "# Compare the lengths of two strings and print if they are equal"
   ]
  },
  {
   "cell_type": "code",
   "execution_count": 133,
   "id": "6574e22e-3e08-45c9-b183-c18032a147ef",
   "metadata": {},
   "outputs": [
    {
     "data": {
      "text/plain": [
       "True"
      ]
     },
     "execution_count": 133,
     "metadata": {},
     "output_type": "execute_result"
    }
   ],
   "source": [
    "len('code') == len('text')"
   ]
  },
  {
   "cell_type": "code",
   "execution_count": 135,
   "id": "37d02c75-5801-4642-98e3-f48616c327a4",
   "metadata": {},
   "outputs": [
    {
     "data": {
      "text/plain": [
       "4"
      ]
     },
     "execution_count": 135,
     "metadata": {},
     "output_type": "execute_result"
    }
   ],
   "source": [
    "len('text')"
   ]
  },
  {
   "cell_type": "code",
   "execution_count": 137,
   "id": "e3ec24f8-ac96-42f9-8f3a-74b11903269f",
   "metadata": {},
   "outputs": [
    {
     "data": {
      "text/plain": [
       "4"
      ]
     },
     "execution_count": 137,
     "metadata": {},
     "output_type": "execute_result"
    }
   ],
   "source": [
    "len('code')"
   ]
  },
  {
   "cell_type": "code",
   "execution_count": null,
   "id": "8fe0ef7a-da68-4bc0-889a-67ce090536c0",
   "metadata": {},
   "outputs": [],
   "source": [
    "# Is a number divisible by 3 or 5?"
   ]
  },
  {
   "cell_type": "code",
   "execution_count": 153,
   "id": "2bfa3fdc-2fff-44d5-a59f-3cdcef3a8462",
   "metadata": {},
   "outputs": [
    {
     "data": {
      "text/plain": [
       "True"
      ]
     },
     "execution_count": 153,
     "metadata": {},
     "output_type": "execute_result"
    }
   ],
   "source": [
    "num = 12\n",
    "num % 3 == 0 or num % 5 == 0"
   ]
  },
  {
   "cell_type": "code",
   "execution_count": 139,
   "id": "b05a80e5-8cf0-4e46-b0b7-8bb5aeb61a91",
   "metadata": {},
   "outputs": [
    {
     "data": {
      "text/plain": [
       "0"
      ]
     },
     "execution_count": 139,
     "metadata": {},
     "output_type": "execute_result"
    }
   ],
   "source": [
    "12 % 3"
   ]
  },
  {
   "cell_type": "code",
   "execution_count": 149,
   "id": "5b22b33e-26b3-4e91-98c2-25a3b36121b2",
   "metadata": {},
   "outputs": [
    {
     "data": {
      "text/plain": [
       "2"
      ]
     },
     "execution_count": 149,
     "metadata": {},
     "output_type": "execute_result"
    }
   ],
   "source": [
    "11 % 3"
   ]
  },
  {
   "cell_type": "code",
   "execution_count": 155,
   "id": "79d509c4-2969-4611-86af-e071dff27a0e",
   "metadata": {},
   "outputs": [
    {
     "data": {
      "text/plain": [
       "2"
      ]
     },
     "execution_count": 155,
     "metadata": {},
     "output_type": "execute_result"
    }
   ],
   "source": [
    "12 % 5"
   ]
  },
  {
   "cell_type": "code",
   "execution_count": null,
   "id": "33c90fca-e984-4f84-90aa-b0d4872ac923",
   "metadata": {},
   "outputs": [],
   "source": [
    "# Check if the word 'code' is in the sentence\n",
    "# sentence = \"I love to write code every day\""
   ]
  },
  {
   "cell_type": "code",
   "execution_count": 157,
   "id": "d91619fa-28f4-4b28-83fc-4aaac570a804",
   "metadata": {},
   "outputs": [
    {
     "data": {
      "text/plain": [
       "True"
      ]
     },
     "execution_count": 157,
     "metadata": {},
     "output_type": "execute_result"
    }
   ],
   "source": [
    "sentence = \"I love to write code every day\"\n",
    "'code' in sentence"
   ]
  },
  {
   "cell_type": "markdown",
   "id": "2f72bf2a-996c-4e4c-9e49-1762c648796d",
   "metadata": {},
   "source": [
    "### input function"
   ]
  },
  {
   "cell_type": "code",
   "execution_count": 161,
   "id": "8f6f7c6d-fdc3-4cbe-a73f-3d94f35cd5f7",
   "metadata": {},
   "outputs": [
    {
     "name": "stdin",
     "output_type": "stream",
     "text": [
      " sumbal\n"
     ]
    },
    {
     "data": {
      "text/plain": [
       "'sumbal'"
      ]
     },
     "execution_count": 161,
     "metadata": {},
     "output_type": "execute_result"
    }
   ],
   "source": [
    "input()"
   ]
  },
  {
   "cell_type": "code",
   "execution_count": 163,
   "id": "159030a8-0533-45ce-8052-65ec24636d80",
   "metadata": {},
   "outputs": [
    {
     "name": "stdin",
     "output_type": "stream",
     "text": [
      "enter your name: sumbal\n"
     ]
    },
    {
     "data": {
      "text/plain": [
       "'sumbal'"
      ]
     },
     "execution_count": 163,
     "metadata": {},
     "output_type": "execute_result"
    }
   ],
   "source": [
    "input('enter your name:')"
   ]
  },
  {
   "cell_type": "code",
   "execution_count": 171,
   "id": "11b296fa-ba11-4cbf-babe-c2c93a02982c",
   "metadata": {},
   "outputs": [
    {
     "name": "stdin",
     "output_type": "stream",
     "text": [
      "enter first number 2\n",
      "enter second number 3\n"
     ]
    },
    {
     "name": "stdout",
     "output_type": "stream",
     "text": [
      "23\n"
     ]
    },
    {
     "data": {
      "text/plain": [
       "str"
      ]
     },
     "execution_count": 171,
     "metadata": {},
     "output_type": "execute_result"
    }
   ],
   "source": [
    "num1 = input('enter first number')\n",
    "num2 = input('enter second number')\n",
    "add = num1 + num2\n",
    "print(add)\n",
    "type(num1)\n",
    "type(num2)"
   ]
  },
  {
   "cell_type": "code",
   "execution_count": 167,
   "id": "6836187d-e992-4871-8a74-c7035be36d1a",
   "metadata": {},
   "outputs": [
    {
     "name": "stdin",
     "output_type": "stream",
     "text": [
      "enter first number 2\n",
      "enter second number 3\n"
     ]
    },
    {
     "name": "stdout",
     "output_type": "stream",
     "text": [
      "5\n"
     ]
    }
   ],
   "source": [
    "num1 = int(input('enter first number'))\n",
    "num2 = int(input('enter second number'))\n",
    "add = num1 + num2\n",
    "print(add)"
   ]
  },
  {
   "cell_type": "markdown",
   "id": "8c6bc4c2-0436-4168-997e-79d08092dffc",
   "metadata": {},
   "source": [
    "### IF-ELIF-ELSE"
   ]
  },
  {
   "cell_type": "code",
   "execution_count": 173,
   "id": "e8a33ad3-34c1-4c5b-a7d6-a1be337c48e3",
   "metadata": {},
   "outputs": [
    {
     "ename": "SyntaxError",
     "evalue": "expected ':' (4074787939.py, line 3)",
     "output_type": "error",
     "traceback": [
      "\u001b[1;36m  Cell \u001b[1;32mIn[173], line 3\u001b[1;36m\u001b[0m\n\u001b[1;33m    if light == 'red'\u001b[0m\n\u001b[1;37m                     ^\u001b[0m\n\u001b[1;31mSyntaxError\u001b[0m\u001b[1;31m:\u001b[0m expected ':'\n"
     ]
    }
   ],
   "source": [
    "light = 'red'\n",
    "\n",
    "if light == 'red'\n",
    "print('stop')"
   ]
  },
  {
   "cell_type": "code",
   "execution_count": 175,
   "id": "939ed689-c2de-4def-9990-7049b9e21441",
   "metadata": {},
   "outputs": [
    {
     "ename": "IndentationError",
     "evalue": "expected an indented block after 'if' statement on line 3 (2244720522.py, line 4)",
     "output_type": "error",
     "traceback": [
      "\u001b[1;36m  Cell \u001b[1;32mIn[175], line 4\u001b[1;36m\u001b[0m\n\u001b[1;33m    print('stop')\u001b[0m\n\u001b[1;37m    ^\u001b[0m\n\u001b[1;31mIndentationError\u001b[0m\u001b[1;31m:\u001b[0m expected an indented block after 'if' statement on line 3\n"
     ]
    }
   ],
   "source": [
    "light = 'red'\n",
    "\n",
    "if light == 'red':\n",
    "print('stop')"
   ]
  },
  {
   "cell_type": "code",
   "execution_count": 177,
   "id": "4b3a190b-675e-424e-81de-0a7eb70b14c2",
   "metadata": {},
   "outputs": [
    {
     "name": "stdout",
     "output_type": "stream",
     "text": [
      "stop\n"
     ]
    }
   ],
   "source": [
    "light = 'red'\n",
    "\n",
    "if light == 'red':\n",
    "    print('stop')\n",
    "    \n"
   ]
  },
  {
   "cell_type": "code",
   "execution_count": 179,
   "id": "9d336cdf-899f-4f7b-a2f3-5c98589fa44d",
   "metadata": {},
   "outputs": [],
   "source": [
    "light = 'green'\n",
    "\n",
    "if light == 'red':\n",
    "    print('stop')\n"
   ]
  },
  {
   "cell_type": "code",
   "execution_count": 185,
   "id": "678d567a-fa45-4ab4-9798-1b2d1499a56b",
   "metadata": {},
   "outputs": [
    {
     "name": "stdout",
     "output_type": "stream",
     "text": [
      "go\n"
     ]
    }
   ],
   "source": [
    "light = 'green'\n",
    "\n",
    "if light == 'red':\n",
    "    print('stop')\n",
    "    \n",
    "else:\n",
    "    print('go')"
   ]
  },
  {
   "cell_type": "code",
   "execution_count": 193,
   "id": "e5be0b85-3b2b-4cc1-903c-ee14932d2801",
   "metadata": {},
   "outputs": [
    {
     "name": "stdout",
     "output_type": "stream",
     "text": [
      "system fail\n"
     ]
    }
   ],
   "source": [
    "light = 'black'\n",
    "\n",
    "if light == 'red':\n",
    "    print('stop')\n",
    "elif light == 'yellow':\n",
    "    print('ready')\n",
    "elif light == 'green':\n",
    "    print('go')\n",
    "else:\n",
    "    print('system fail')\n",
    "    \n"
   ]
  },
  {
   "cell_type": "code",
   "execution_count": 199,
   "id": "18a4e6fa-1e6a-4824-804d-0b4888f11558",
   "metadata": {},
   "outputs": [
    {
     "name": "stdin",
     "output_type": "stream",
     "text": [
      "enter a given color red/green/yellow RED\n"
     ]
    },
    {
     "name": "stdout",
     "output_type": "stream",
     "text": [
      "stop\n"
     ]
    }
   ],
   "source": [
    "light = input('enter a given color red/green/yellow').lower()\n",
    "\n",
    "if light == 'red':\n",
    "    print('stop')\n",
    "elif light == 'yellow':\n",
    "    print('ready')\n",
    "elif light == 'green':\n",
    "    print('go')\n",
    "else:\n",
    "    print('system fail')\n",
    "    \n"
   ]
  },
  {
   "cell_type": "code",
   "execution_count": 211,
   "id": "8458b4f7-c3e7-45aa-b2c1-5f2b0be5e98c",
   "metadata": {},
   "outputs": [
    {
     "name": "stdout",
     "output_type": "stream",
     "text": [
      "system error\n"
     ]
    }
   ],
   "source": [
    "marks = 101\n",
    "\n",
    "if marks >= 80 and marks <= 100:\n",
    "    print('A+')\n",
    "elif marks >= 70 and marks <80:\n",
    "    print('A')\n",
    "elif marks >= 60 and marks < 70:\n",
    "    print('B')\n",
    "elif marks >= 50 and marks < 60:\n",
    "    print('C')\n",
    "else:\n",
    "    print('system error')\n"
   ]
  },
  {
   "cell_type": "code",
   "execution_count": 213,
   "id": "654e8402-78c9-4989-82b6-b3d120011a2a",
   "metadata": {},
   "outputs": [
    {
     "name": "stdout",
     "output_type": "stream",
     "text": [
      "fail\n"
     ]
    }
   ],
   "source": [
    "marks = 34\n",
    "\n",
    "if marks >= 80 and marks <= 100:\n",
    "    print('A+')\n",
    "elif marks >= 70 and marks <80:\n",
    "    print('A')\n",
    "elif marks >= 60 and marks < 70:\n",
    "    print('B')\n",
    "elif marks >= 50 and marks < 60:\n",
    "    print('C')\n",
    "elif marks >= 0 and marks <50:\n",
    "    print('fail')\n",
    "else:\n",
    "    print('system error')\n"
   ]
  },
  {
   "cell_type": "code",
   "execution_count": 215,
   "id": "795898a7-911f-4778-a993-e1f4ea4777b4",
   "metadata": {},
   "outputs": [
    {
     "name": "stdout",
     "output_type": "stream",
     "text": [
      "invalid number\n"
     ]
    }
   ],
   "source": [
    "marks = 101\n",
    "\n",
    "if marks >= 80 and marks <= 100:\n",
    "    print('A+')\n",
    "elif marks >= 70 and marks <80:\n",
    "    print('A')\n",
    "elif marks >= 60 and marks < 70:\n",
    "    print('B')\n",
    "elif marks >= 50 and marks < 60:\n",
    "    print('C')\n",
    "elif marks >= 0 and marks <50:\n",
    "    print('fail')\n",
    "elif marks < 0 or marks > 100:\n",
    "    print('invalid number')"
   ]
  },
  {
   "cell_type": "code",
   "execution_count": 217,
   "id": "32745e8c-726c-4b2e-933f-4c871a48a1c9",
   "metadata": {},
   "outputs": [
    {
     "name": "stdout",
     "output_type": "stream",
     "text": [
      "invalid number\n"
     ]
    }
   ],
   "source": [
    "marks = -34\n",
    "\n",
    "if marks >= 80 and marks <= 100:\n",
    "    print('A+')\n",
    "elif marks >= 70 and marks <80:\n",
    "    print('A')\n",
    "elif marks >= 60 and marks < 70:\n",
    "    print('B')\n",
    "elif marks >= 50 and marks < 60:\n",
    "    print('C')\n",
    "elif marks >= 0 and marks <50:\n",
    "    print('fail')\n",
    "elif marks < 0 or marks > 100:\n",
    "    print('invalid number')"
   ]
  },
  {
   "cell_type": "markdown",
   "id": "a5309fce-fddc-457f-a907-3fa7f8376a36",
   "metadata": {},
   "source": [
    "### Nested IF"
   ]
  },
  {
   "cell_type": "code",
   "execution_count": 219,
   "id": "6a93ea24-7d46-4fe0-b34b-4875531129fb",
   "metadata": {},
   "outputs": [],
   "source": [
    "visa = \"valid\"\n",
    "account_statement = 5000001\n",
    "purpose = \"education\"\n",
    "admission_letter = \"no\"\n",
    "job_recommendation = \"yes\"\n",
    "age = 33\n",
    "family_member = \"yes\"\n",
    "documents_submitted = \"yes\""
   ]
  },
  {
   "cell_type": "code",
   "execution_count": 221,
   "id": "e29f333c-bd22-42cc-9702-0b2062b2c6b5",
   "metadata": {},
   "outputs": [
    {
     "name": "stdout",
     "output_type": "stream",
     "text": [
      "welcome\n"
     ]
    }
   ],
   "source": [
    "if visa == 'valid':\n",
    "    if purpose == 'education':\n",
    "        print('welcome')"
   ]
  },
  {
   "cell_type": "code",
   "execution_count": 223,
   "id": "796f7e32-5edb-42ab-9326-4a3487cd71b2",
   "metadata": {},
   "outputs": [],
   "source": [
    "if visa == 'invalid':\n",
    "    if purpose == 'education':\n",
    "        print('welcome')"
   ]
  },
  {
   "cell_type": "code",
   "execution_count": 225,
   "id": "ca6fddb8-a561-4d94-a930-cba54556e870",
   "metadata": {},
   "outputs": [
    {
     "name": "stdout",
     "output_type": "stream",
     "text": [
      "invalid visa\n"
     ]
    }
   ],
   "source": [
    "if visa == 'invalid':\n",
    "    if purpose == 'education':\n",
    "        print('welcome')\n",
    "else:\n",
    "    print('invalid visa')"
   ]
  },
  {
   "cell_type": "code",
   "execution_count": 227,
   "id": "ecf37e52-568e-47a3-8dc4-d1c74efe62f4",
   "metadata": {},
   "outputs": [],
   "source": [
    "if visa == 'valid':\n",
    "    if purpose == 'job':\n",
    "        print('welcome')\n",
    "else:\n",
    "    print('invalid visa')"
   ]
  },
  {
   "cell_type": "code",
   "execution_count": 229,
   "id": "46e974d6-c6eb-4aa3-ba6a-083e50a5a0e8",
   "metadata": {},
   "outputs": [
    {
     "name": "stdout",
     "output_type": "stream",
     "text": [
      "your purpose is not education\n"
     ]
    }
   ],
   "source": [
    "if visa == 'valid':\n",
    "    if purpose == 'job':\n",
    "        print('welcome')\n",
    "    else:\n",
    "        print('your purpose is not education')\n",
    "else:\n",
    "    print('invalid visa')"
   ]
  },
  {
   "cell_type": "code",
   "execution_count": 231,
   "id": "9816096a-a468-4d74-8970-43732805a003",
   "metadata": {},
   "outputs": [
    {
     "name": "stdout",
     "output_type": "stream",
     "text": [
      "invalid visa\n"
     ]
    }
   ],
   "source": [
    "if visa == 'invalid':\n",
    "    if purpose == 'job':\n",
    "        print('welcome')\n",
    "    else:\n",
    "        print('your purpose is not education')\n",
    "else:\n",
    "    print('invalid visa')"
   ]
  },
  {
   "cell_type": "code",
   "execution_count": 237,
   "id": "a736244b-a1a3-4add-b711-52ad3d8f7322",
   "metadata": {},
   "outputs": [
    {
     "name": "stdout",
     "output_type": "stream",
     "text": [
      "invalid visa\n"
     ]
    }
   ],
   "source": [
    "if visa == 'invalid':\n",
    "    if purpose == 'education':\n",
    "        print('welcome')\n",
    "    else:\n",
    "        print('your purpose is not education')\n",
    "else:\n",
    "    print('invalid visa')"
   ]
  },
  {
   "cell_type": "code",
   "execution_count": 239,
   "id": "e25b659d-59af-4746-a0e7-8d18420faae9",
   "metadata": {},
   "outputs": [
    {
     "name": "stdout",
     "output_type": "stream",
     "text": [
      "welcome\n"
     ]
    }
   ],
   "source": [
    "if visa == 'valid':\n",
    "    if purpose == 'education':\n",
    "        print('welcome')\n",
    "    else:\n",
    "        print('your purpose is not education')\n",
    "else:\n",
    "    print('invalid visa')"
   ]
  },
  {
   "cell_type": "code",
   "execution_count": 241,
   "id": "9c1cf62b-21a5-426a-85c1-0f3eb3f4e618",
   "metadata": {},
   "outputs": [],
   "source": [
    "visa = \"valid\"\n",
    "purpose = \"education\"\n",
    "family_member = \"yes\""
   ]
  },
  {
   "cell_type": "code",
   "execution_count": 245,
   "id": "fc6e5f0c-694b-4d18-9f18-62e2172b634b",
   "metadata": {},
   "outputs": [
    {
     "name": "stdout",
     "output_type": "stream",
     "text": [
      "welcome\n"
     ]
    }
   ],
   "source": [
    "if visa == 'valid':\n",
    "    if purpose == 'education':\n",
    "        if family_member == 'yes':\n",
    "            print('welcome')"
   ]
  },
  {
   "cell_type": "code",
   "execution_count": 247,
   "id": "ba92ae0e-841e-4560-8804-9c9c664c3607",
   "metadata": {},
   "outputs": [],
   "source": [
    "if visa == 'valid':\n",
    "    if purpose == 'education':\n",
    "        if family_member == 'no':\n",
    "            print('welcome')"
   ]
  },
  {
   "cell_type": "code",
   "execution_count": 249,
   "id": "ff3431ec-c5a0-4371-8a64-9d5f503a47d3",
   "metadata": {},
   "outputs": [
    {
     "name": "stdout",
     "output_type": "stream",
     "text": [
      "please bring your family member with you\n"
     ]
    }
   ],
   "source": [
    "if visa == 'valid':\n",
    "    if purpose == 'education':\n",
    "        if family_member == 'no':\n",
    "            print('welcome')\n",
    "        else:\n",
    "            print('please bring your family member with you')\n",
    "    else:\n",
    "        print('your purpose is not education')\n",
    "else:\n",
    "    print('invalid visa')"
   ]
  },
  {
   "cell_type": "code",
   "execution_count": 251,
   "id": "ae74033a-5814-485a-923a-d99a6ca5b0a7",
   "metadata": {},
   "outputs": [
    {
     "name": "stdout",
     "output_type": "stream",
     "text": [
      "your purpose is not education\n"
     ]
    }
   ],
   "source": [
    "if visa == 'valid':\n",
    "    if purpose == 'job':\n",
    "        if family_member == 'yes':\n",
    "            print('welcome')\n",
    "        eli family_member == 'no':\n",
    "            print('please bring your family member with you')\n",
    "    else:\n",
    "        print('your purpose is not education')\n",
    "else:\n",
    "    print('invalid visa')"
   ]
  },
  {
   "cell_type": "code",
   "execution_count": 253,
   "id": "622073d6-011f-4d03-8d7b-0a1d9fdf666b",
   "metadata": {},
   "outputs": [
    {
     "name": "stdout",
     "output_type": "stream",
     "text": [
      "invalid visa\n"
     ]
    }
   ],
   "source": [
    "if visa == 'invalid':\n",
    "    if purpose == 'education':\n",
    "        if family_member == 'yes':\n",
    "            print('welcome')\n",
    "        else:\n",
    "            print('please bring your family member with you')\n",
    "    else:\n",
    "        print('your purpose is not education')\n",
    "else:\n",
    "    print('invalid visa')"
   ]
  },
  {
   "cell_type": "markdown",
   "id": "117a58f8-6ded-4661-ba7e-e01f8d50256b",
   "metadata": {},
   "source": [
    "### Practice Question"
   ]
  },
  {
   "cell_type": "markdown",
   "id": "38f76129-1ab6-4ae9-ba93-8b23e50052ae",
   "metadata": {},
   "source": [
    "### Write a program that asks the user to enter a number.\n",
    "\n",
    "If the number is even and greater than 50, print \"Even and Big\".\n",
    "\n",
    "If the number is even and less than or equal to 50, print \"Even and Small\".\n",
    "\n",
    "If the number is odd and greater than 50, print \"Odd and Big\".\n",
    "\n",
    "Otherwise, print \"Odd and Small\"."
   ]
  }
 ],
 "metadata": {
  "kernelspec": {
   "display_name": "Python 3 (ipykernel)",
   "language": "python",
   "name": "python3"
  },
  "language_info": {
   "codemirror_mode": {
    "name": "ipython",
    "version": 3
   },
   "file_extension": ".py",
   "mimetype": "text/x-python",
   "name": "python",
   "nbconvert_exporter": "python",
   "pygments_lexer": "ipython3",
   "version": "3.12.4"
  }
 },
 "nbformat": 4,
 "nbformat_minor": 5
}
