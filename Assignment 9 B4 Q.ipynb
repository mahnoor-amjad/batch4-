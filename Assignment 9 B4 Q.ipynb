{
 "cells": [
  {
   "cell_type": "markdown",
   "id": "2bf6c77b-bc8e-45a8-a853-401f0356badf",
   "metadata": {},
   "source": [
    "Q1:\n",
    "Write a Python program that:\n",
    "\n",
    "Has a balance of 1000.\n",
    "\n",
    "Asks the user for a withdrawal amount.\n",
    "\n",
    "Checks for these errors:\n",
    "\n",
    "Non-numeric input → print \"Please enter a valid number.\"\n",
    "\n",
    "Amount ≤ 0 → print \"Amount must be more than zero.\"\n",
    "\n",
    "Amount > balance → print \"Insufficient balance.\"\n",
    "\n",
    "If valid, deducts amount and shows remaining balance.\n",
    "\n",
    "Always prints \"Thank you for using the ATM.\"\n",
    "\n",
    "Expected Output:\n",
    "\n",
    "- Enter amount to withdraw: 1500\n",
    "\n",
    "  Insufficient balance.\n",
    "\n",
    "  Thank you for using the ATM.\n",
    "\n",
    "\n",
    "- Enter amount to withdraw:  0\n",
    "\n",
    "  Amount must be more than zero.\n",
    "\n",
    "  Thank you for using the ATM.\n",
    "\n",
    "\n",
    "- Enter amount to withdraw:  K\n",
    "\n",
    "\n",
    "  Please enter a valid number.\n",
    "\n",
    "  Thank you for using the ATM."
   ]
  },
  {
   "cell_type": "code",
   "execution_count": 1,
   "id": "e8e1bf25-ad88-49b6-b3a2-4e54e00efe49",
   "metadata": {},
   "outputs": [],
   "source": [
    "def atm_withbdrawal():\n",
    "    balance = 1000\n",
    "    try:\n",
    "        amount = float(input(\"Enter amount to withdraw: \"))\n",
    "    except ValueError:\n",
    "        print(\"Please enter a valid number.\")\n",
    "    else:\n",
    "        if amount <= 0:\n",
    "            print(\"Amount must be more than zero.\")\n",
    "        elif amount > balance:\n",
    "            print(\"Insufficient balance.\")\n",
    "        else:\n",
    "            balance -= amount\n",
    "            print(f\"Withdrawal sucessful. Remaining balance: {balance: 2f}\")\n",
    "    print(\"Thankyou for using the Atm.\")"
   ]
  },
  {
   "cell_type": "code",
   "execution_count": 2,
   "id": "504a5195-93af-4d9b-b437-d778e2016b8e",
   "metadata": {},
   "outputs": [
    {
     "name": "stdin",
     "output_type": "stream",
     "text": [
      "Enter amount to withdraw:  1500\n"
     ]
    },
    {
     "name": "stdout",
     "output_type": "stream",
     "text": [
      "Insufficient balance.\n",
      "Thankyou for using the Atm.\n"
     ]
    }
   ],
   "source": [
    "atm_withbdrawal()"
   ]
  },
  {
   "cell_type": "code",
   "execution_count": 3,
   "id": "026f6947-ebd7-4f6b-a2a5-f6f4a4dfecd8",
   "metadata": {},
   "outputs": [
    {
     "name": "stdin",
     "output_type": "stream",
     "text": [
      "Enter amount to withdraw:  0\n"
     ]
    },
    {
     "name": "stdout",
     "output_type": "stream",
     "text": [
      "Amount must be more than zero.\n",
      "Thankyou for using the Atm.\n"
     ]
    }
   ],
   "source": [
    "atm_withbdrawal()"
   ]
  },
  {
   "cell_type": "code",
   "execution_count": 4,
   "id": "e832dac8-b2a0-4d33-bc9e-d7fa7efd0935",
   "metadata": {},
   "outputs": [
    {
     "name": "stdin",
     "output_type": "stream",
     "text": [
      "Enter amount to withdraw:  k\n"
     ]
    },
    {
     "name": "stdout",
     "output_type": "stream",
     "text": [
      "Please enter a valid number.\n",
      "Thankyou for using the Atm.\n"
     ]
    }
   ],
   "source": [
    "atm_withbdrawal()"
   ]
  },
  {
   "cell_type": "markdown",
   "id": "e7ca4d3f-3f2f-4b01-bc4c-28919084207c",
   "metadata": {},
   "source": [
    "Q2\n",
    "\n",
    "Write a Python program that:\n",
    "\n",
    "Has 5 seats available (available_seats = 5).\n",
    "\n",
    "Asks the user how many tickets they want to book.\n",
    "\n",
    "Checks for these cases:\n",
    "\n",
    "Non-numeric input → print \"Please enter a valid number.\"\n",
    "\n",
    "Tickets ≤ 0 → print \"You must book at least 1 ticket.\"\n",
    "\n",
    "Tickets more than available seats → print \"Not enough seats available.\"\n",
    "\n",
    "If valid, confirms the booking by printing how many tickets were booked.\n",
    "\n",
    "Always prints \"Thank you for booking with us.\" at the end.\n",
    "\n",
    "Expected Output:\n",
    "\n",
    "- How many tickets do you want to book? 3\n",
    "\n",
    "  3 ticket(s) booked successfully.\n",
    "\n",
    "  Thank you for booking with us.\n",
    "\n",
    "- How many tickets do you want to book? 0\n",
    "\n",
    "\n",
    "  You must book at least 1 ticket.\n",
    "\n",
    "  Thank you for booking with us.\n",
    "\n",
    "- How many tickets do you want to book? 7\n",
    "\n",
    "  Not enough seats available.\n",
    "\n",
    "  Thank you for booking with us.\n",
    "\n",
    "- How many tickets do you want to book? five\n",
    "\n",
    "  Please enter a valid number.\n",
    "\n",
    "  Thank you for booking with us.\n",
    "\n",
    "\n",
    "\n"
   ]
  },
  {
   "cell_type": "code",
   "execution_count": 5,
   "id": "97bd1956-abfd-4f66-b900-6ec5448f22a5",
   "metadata": {},
   "outputs": [],
   "source": [
    "def ticket_booking():\n",
    "    available_seats = 5\n",
    "    try:\n",
    "        tickets = int(input(\"How many tickets do you want to book? \"))\n",
    "    except ValueError:\n",
    "        print(\"Please enter a valid number.\")\n",
    "    else:\n",
    "        if tickets <= 0:\n",
    "            print(\"You must book at least 1 ticket.\")\n",
    "        elif tickets > available_seats:\n",
    "            print(\"Not enouge seats available.\")\n",
    "        else:\n",
    "            print(f\"{\"trickets\"} tricket(s) booked successfully.\")\n",
    "    print(\"Thankyou for booking with us.\")"
   ]
  },
  {
   "cell_type": "code",
   "execution_count": 6,
   "id": "1fc73bed-b516-49f5-a3fc-0b66addda7fe",
   "metadata": {},
   "outputs": [
    {
     "name": "stdin",
     "output_type": "stream",
     "text": [
      "How many tickets do you want to book?  3\n"
     ]
    },
    {
     "name": "stdout",
     "output_type": "stream",
     "text": [
      "trickets tricket(s) booked successfully.\n",
      "Thankyou for booking with us.\n"
     ]
    }
   ],
   "source": [
    "ticket_booking()"
   ]
  },
  {
   "cell_type": "code",
   "execution_count": 7,
   "id": "b8a00664-0268-4114-aff4-25d7aaeed574",
   "metadata": {},
   "outputs": [
    {
     "name": "stdin",
     "output_type": "stream",
     "text": [
      "How many tickets do you want to book?  0\n"
     ]
    },
    {
     "name": "stdout",
     "output_type": "stream",
     "text": [
      "You must book at least 1 ticket.\n",
      "Thankyou for booking with us.\n"
     ]
    }
   ],
   "source": [
    "ticket_booking()"
   ]
  },
  {
   "cell_type": "code",
   "execution_count": 8,
   "id": "46085a93-0237-49f8-9857-4256953a2e35",
   "metadata": {},
   "outputs": [
    {
     "name": "stdin",
     "output_type": "stream",
     "text": [
      "How many tickets do you want to book?  7\n"
     ]
    },
    {
     "name": "stdout",
     "output_type": "stream",
     "text": [
      "Not enouge seats available.\n",
      "Thankyou for booking with us.\n"
     ]
    }
   ],
   "source": [
    "ticket_booking()"
   ]
  },
  {
   "cell_type": "code",
   "execution_count": 9,
   "id": "091b28b4-6e04-4792-ab7c-026bdbe2dbac",
   "metadata": {},
   "outputs": [
    {
     "name": "stdin",
     "output_type": "stream",
     "text": [
      "How many tickets do you want to book?  5\n"
     ]
    },
    {
     "name": "stdout",
     "output_type": "stream",
     "text": [
      "trickets tricket(s) booked successfully.\n",
      "Thankyou for booking with us.\n"
     ]
    }
   ],
   "source": [
    "ticket_booking()"
   ]
  },
  {
   "cell_type": "markdown",
   "id": "5dc01c7c-2a5b-4a18-bd8f-4b80f71b625b",
   "metadata": {},
   "source": [
    "Q3:\n",
    "\n",
    "Write a Python program that:\n",
    "\n",
    "Asks the user how many items they want to buy.\n",
    "\n",
    "If the user enters a non-number, print: \"Please enter a valid quantity.\"\n",
    "\n",
    "If the user enters a number less than 1, print: \"You must buy at least one item.\"\n",
    "\n",
    "If the input is valid, print: \"You added {quantity} item(s) to your cart.\"\n",
    "\n",
    "Expected Output:\n",
    "\n",
    "- Enter the number of items you want to buy: 3\n",
    "\n",
    "  You added 3 item(s) to your cart.\n",
    "\n",
    "- Enter the number of items you want to buy: 0\n",
    "\n",
    "    You must buy at least one item.\n",
    "\n",
    "- Enter the number of items you want to buy: five\n",
    "\n",
    "  Please enter a valid quantity.\n",
    "\n"
   ]
  },
  {
   "cell_type": "code",
   "execution_count": 10,
   "id": "4f209c84-dd6b-4a92-a0c1-847ffde483cf",
   "metadata": {},
   "outputs": [],
   "source": [
    "def shopping_cart():\n",
    "    try:\n",
    "        quantity = int(input(\"Enter the number of items you want to buy: \"))\n",
    "    except ValueError:\n",
    "        print(\"Please enter a valid quantity.\")\n",
    "    else:\n",
    "        if quantity < 1:\n",
    "            print(\"You must buy at least one item.\")\n",
    "        else:\n",
    "            print(f\"You added {\"quantity\"} item(s) to your cart.\")"
   ]
  },
  {
   "cell_type": "code",
   "execution_count": 11,
   "id": "34ce7c5d-2a5d-4f1c-b23d-2aa070e22585",
   "metadata": {},
   "outputs": [
    {
     "name": "stdin",
     "output_type": "stream",
     "text": [
      "Enter the number of items you want to buy:  3\n"
     ]
    },
    {
     "name": "stdout",
     "output_type": "stream",
     "text": [
      "You added quantity item(s) to your cart.\n"
     ]
    }
   ],
   "source": [
    "shopping_cart()"
   ]
  },
  {
   "cell_type": "code",
   "execution_count": 12,
   "id": "02647f05-65aa-47fb-bea0-01762f6a1755",
   "metadata": {},
   "outputs": [
    {
     "name": "stdin",
     "output_type": "stream",
     "text": [
      "Enter the number of items you want to buy:  0\n"
     ]
    },
    {
     "name": "stdout",
     "output_type": "stream",
     "text": [
      "You must buy at least one item.\n"
     ]
    }
   ],
   "source": [
    "shopping_cart()"
   ]
  },
  {
   "cell_type": "code",
   "execution_count": 13,
   "id": "2eb9a576-2035-4048-bacc-457696fb3909",
   "metadata": {},
   "outputs": [
    {
     "name": "stdin",
     "output_type": "stream",
     "text": [
      "Enter the number of items you want to buy:  5\n"
     ]
    },
    {
     "name": "stdout",
     "output_type": "stream",
     "text": [
      "You added quantity item(s) to your cart.\n"
     ]
    }
   ],
   "source": [
    "shopping_cart()"
   ]
  },
  {
   "cell_type": "markdown",
   "id": "3ac27741-aec9-45ae-83c5-8648e53245cd",
   "metadata": {},
   "source": [
    "Q4:\n",
    "Write a Python program that:\n",
    "\n",
    "Asks the user to enter a number between 1 and 7.\n",
    "\n",
    "If the number is between 1 and 7, prints the corresponding day of the week (1 = Monday, 7 = Sunday).\n",
    "\n",
    "If the number is outside this range, prints: \"Please enter a number between 1 and 7.\"\n",
    "\n",
    "Handles invalid input (non-numbers) by printing: \"Please enter a valid number.\"\n",
    "\n",
    "Expected Output:\n",
    "\n",
    "- Enter a day number (1-7): 3\n",
    "\n",
    "  Day is Wednesday\n",
    "\n",
    "- Enter a day number (1-7): 9\n",
    "\n",
    "    Please enter a number between 1 and 7.\n",
    "\n",
    "- Enter a day number (1-7): five\n",
    "\n",
    "  Please enter a valid number.\n",
    "\n",
    "\n"
   ]
  },
  {
   "cell_type": "code",
   "execution_count": 14,
   "id": "c4a44852-96db-437d-8289-5c3bbb188890",
   "metadata": {},
   "outputs": [],
   "source": [
    "def day_of_week():\n",
    "    days = [\"Monday\", \"Tuesday\", \"Wednesday\", \"Thursday\", \"Friday\", \"Saturday\", \"Sunday\"]\n",
    "    try:\n",
    "        day_number = int(input(\"Enter a day number (1-7): \"))\n",
    "    except ValueError:\n",
    "        print(\"Please enter a valid number.\")\n",
    "    else:\n",
    "        if 1 <= day_number <= 7:\n",
    "            print(f\"Day is {days[day_number - 1]}\")\n",
    "        else:\n",
    "            print(\"Please enter a number between 1 and 7.\")"
   ]
  },
  {
   "cell_type": "code",
   "execution_count": 15,
   "id": "9968ca87-7efc-4630-b7d4-52f345eac57a",
   "metadata": {},
   "outputs": [
    {
     "name": "stdin",
     "output_type": "stream",
     "text": [
      "Enter a day number (1-7):  3\n"
     ]
    },
    {
     "name": "stdout",
     "output_type": "stream",
     "text": [
      "Day is Wednesday\n"
     ]
    }
   ],
   "source": [
    "day_of_week()"
   ]
  },
  {
   "cell_type": "code",
   "execution_count": 16,
   "id": "44a1ca6b-17d1-439f-9869-cd3c7c5a1464",
   "metadata": {},
   "outputs": [
    {
     "name": "stdin",
     "output_type": "stream",
     "text": [
      "Enter a day number (1-7):  9\n"
     ]
    },
    {
     "name": "stdout",
     "output_type": "stream",
     "text": [
      "Please enter a number between 1 and 7.\n"
     ]
    }
   ],
   "source": [
    "day_of_week()"
   ]
  },
  {
   "cell_type": "code",
   "execution_count": 17,
   "id": "9e2ce625-26bd-4dcd-9f84-3476fde862b7",
   "metadata": {},
   "outputs": [
    {
     "name": "stdin",
     "output_type": "stream",
     "text": [
      "Enter a day number (1-7):  5\n"
     ]
    },
    {
     "name": "stdout",
     "output_type": "stream",
     "text": [
      "Day is Friday\n"
     ]
    }
   ],
   "source": [
    "day_of_week()"
   ]
  },
  {
   "cell_type": "markdown",
   "id": "ae60a0eb-b305-425f-b90e-808005f8cefb",
   "metadata": {},
   "source": [
    "Q5:\n",
    "\n",
    "Write a Python program that:\n",
    "\n",
    "Asks the user how many days late they are returning a book.\n",
    "\n",
    "Calculates a fine: $0.50 per day late.\n",
    "\n",
    "If the user enters a negative number, print: \"Days late cannot be negative.\"\n",
    "\n",
    "If the input is invalid (not a number), print: \"Please enter a valid number.\"\n",
    "\n",
    "Otherwise, print the total fine.\n",
    "\n",
    "Expected Output:\n",
    "\n",
    "- Enter the number of days late: 4\n",
    "\n",
    "  Total fine: $2.00\n",
    "\n",
    "- Enter the number of days late: 0\n",
    "\n",
    "  Total fine: $0.00\n",
    "\n",
    "- Enter the number of days late: -3\n",
    "\n",
    "    Days late cannot be negative.\n",
    "\n",
    "- Enter the number of days late: five\n",
    "\n",
    "\n",
    "  Please enter a valid number.\n",
    "\n",
    "\n",
    "\n"
   ]
  },
  {
   "cell_type": "code",
   "execution_count": 18,
   "id": "25bdc9fc-39a3-46bb-a136-50017d6e92ce",
   "metadata": {},
   "outputs": [],
   "source": [
    "def calculate_fine():\n",
    "    try:\n",
    "        days_late = int(input(\"Enter the number of days late: \"))\n",
    "    except ValueError:\n",
    "        print(\"Please enter a valid number.\")\n",
    "    else:\n",
    "        if days_late < 0:\n",
    "            print(\"Days late cannot be negative.\")\n",
    "        else:\n",
    "            fine = days_late * 0.50\n",
    "            print(f\"Total fine: ${fine: 2f}\")"
   ]
  },
  {
   "cell_type": "code",
   "execution_count": 19,
   "id": "2101c046-89c7-4a6c-8961-cf93352ffe01",
   "metadata": {},
   "outputs": [
    {
     "name": "stdin",
     "output_type": "stream",
     "text": [
      "Enter the number of days late:  4\n"
     ]
    },
    {
     "name": "stdout",
     "output_type": "stream",
     "text": [
      "Total fine: $ 2.000000\n"
     ]
    }
   ],
   "source": [
    "calculate_fine()"
   ]
  },
  {
   "cell_type": "code",
   "execution_count": 20,
   "id": "d98c1154-058f-4c12-82fd-44ff44a5e0d1",
   "metadata": {},
   "outputs": [
    {
     "name": "stdin",
     "output_type": "stream",
     "text": [
      "Enter the number of days late:  0\n"
     ]
    },
    {
     "name": "stdout",
     "output_type": "stream",
     "text": [
      "Total fine: $ 0.000000\n"
     ]
    }
   ],
   "source": [
    "calculate_fine()"
   ]
  },
  {
   "cell_type": "code",
   "execution_count": 21,
   "id": "a648ffe9-f110-4765-a00e-d3ead6f95eed",
   "metadata": {},
   "outputs": [
    {
     "name": "stdin",
     "output_type": "stream",
     "text": [
      "Enter the number of days late:  3\n"
     ]
    },
    {
     "name": "stdout",
     "output_type": "stream",
     "text": [
      "Total fine: $ 1.500000\n"
     ]
    }
   ],
   "source": [
    "calculate_fine()"
   ]
  },
  {
   "cell_type": "code",
   "execution_count": 22,
   "id": "77b5dd33-d439-4a7d-8fac-dfc65c6d13d3",
   "metadata": {},
   "outputs": [
    {
     "name": "stdin",
     "output_type": "stream",
     "text": [
      "Enter the number of days late:  5\n"
     ]
    },
    {
     "name": "stdout",
     "output_type": "stream",
     "text": [
      "Total fine: $ 2.500000\n"
     ]
    }
   ],
   "source": [
    "calculate_fine()"
   ]
  },
  {
   "cell_type": "markdown",
   "id": "0c62f22a-9cd0-4092-81d7-f9a1dfd27478",
   "metadata": {},
   "source": [
    "Q6:\n",
    "Define a class named Book that has the following attributes:\n",
    "\n",
    "title (string)\n",
    "\n",
    "author (string)\n",
    "\n",
    "year (integer)\n",
    "\n",
    "Write a constructor (__init__) that initializes these attributes when a Book object is created.\n",
    "\n",
    "Then, create an object of the Book class with sample data (e.g., title = \"To Kill a Mockingbird\", author = \"Harper Lee\", year = 1960).\n",
    "\n",
    "Finally, print the values of the object's attributes (title, author, and year\n",
    "\n",
    "Expected Output:\n",
    "\n",
    "To Kill a Mockingbird\n",
    "\n",
    "Harper Lee\n",
    "\n",
    "1960\n"
   ]
  },
  {
   "cell_type": "code",
   "execution_count": 30,
   "id": "a61f5590-6bbf-41bf-9d4a-640705c14ae6",
   "metadata": {},
   "outputs": [],
   "source": [
    "class Book:\n",
    "    def __init__(self, tittle, author, year):\n",
    "        self.tittle = tittle\n",
    "        self.author = author\n",
    "        self.year = year"
   ]
  },
  {
   "cell_type": "code",
   "execution_count": 31,
   "id": "2e863e4e-7801-4714-8aae-ca5ffd235611",
   "metadata": {},
   "outputs": [],
   "source": [
    "book1 = Book(\"To Kill a Mockingbird\", \"Harper lee\", 1960)"
   ]
  },
  {
   "cell_type": "code",
   "execution_count": 33,
   "id": "0742f38b-f054-4291-80d6-8d94fbc1d6e9",
   "metadata": {},
   "outputs": [
    {
     "name": "stdout",
     "output_type": "stream",
     "text": [
      "To Kill a Mockingbird\n",
      "Harper lee\n",
      "1960\n"
     ]
    }
   ],
   "source": [
    "print(book1.tittle)\n",
    "print(book1.author)\n",
    "print(book1.year)"
   ]
  },
  {
   "cell_type": "markdown",
   "id": "865ebbd2-6635-46b3-8dd5-67f3939287e6",
   "metadata": {},
   "source": [
    "Q7:\n",
    "\n",
    "Define a class named Book with the following:\n",
    "\n",
    "A constructor (__init__) that initializes three attributes: title, author, and year.\n",
    "\n",
    "A method display_info() that prints the book details in the format:\n",
    "\n",
    "'{title}' by {author}, published in {year}.\n",
    "\n",
    "A method is_classic() that simply prints:\n",
    "\n",
    "\"This is a book.\"\n",
    "\n",
    "Create an object of the Book class using this data:\n",
    "\n",
    "Title: \"To Kill a Mockingbird\"\n",
    "\n",
    "Author: \"Harper Lee\"\n",
    "\n",
    "Year: 1960\n",
    "\n",
    "Call both methods on the object.\n",
    "\n",
    "Expected Output:\n",
    "\n",
    "'To Kill a Mockingbird' by Harper Lee, published in 1960.\n",
    "\n",
    "This is a book.\n",
    "\n"
   ]
  },
  {
   "cell_type": "code",
   "execution_count": 76,
   "id": "14449b0b-2bc8-4276-a88e-07cb70084d78",
   "metadata": {},
   "outputs": [],
   "source": [
    "class Book:\n",
    "    def __init__(self, tittle, author, year):\n",
    "        self.tittle = tittle\n",
    "        self.author = author\n",
    "        self.year = year\n",
    "    def display_info(self):\n",
    "        print(f\"'{self.tittle}' by {self.author}, publidhed in {self.year}.\")\n",
    "    def is_classic(self):\n",
    "        print(\"this is a  book.\")"
   ]
  },
  {
   "cell_type": "code",
   "execution_count": 77,
   "id": "1678bc9b-7033-4a48-90a5-e7fbd7fcd5d2",
   "metadata": {},
   "outputs": [],
   "source": [
    "book1 = Book(\"To Kill a Mockingbird\", \"Harper lee\", 1960)"
   ]
  },
  {
   "cell_type": "code",
   "execution_count": 78,
   "id": "d5456b39-44b7-4fd3-86b8-f80bd047f657",
   "metadata": {},
   "outputs": [
    {
     "name": "stdout",
     "output_type": "stream",
     "text": [
      "'To Kill a Mockingbird' by Harper lee, publidhed in 1960.\n",
      "this is a  book.\n"
     ]
    }
   ],
   "source": [
    "book1.display_info()\n",
    "book1.is_classic()"
   ]
  },
  {
   "cell_type": "markdown",
   "id": "aa6ad4bb-1c4c-4765-b1e0-98068f7c89b8",
   "metadata": {},
   "source": [
    "Q8:\n",
    "\n",
    "Define a class named Student that has the following:\n",
    "\n",
    "Attributes: name, grade, and age.\n",
    "\n",
    "A method introduce() that prints:\n",
    "\n",
    "\"My name is {name}, I am {age} years old.\"\n",
    "\n",
    "A method show_grade() that prints:\n",
    "\n",
    "\"My grade is {grade}.\"\n",
    "\n",
    "Create an object of the Student class with sample data (e.g., \"Alice\", \"A\", 16), and call both methods on the object.\n",
    "\n",
    "Expected Output:\n",
    "\n",
    "My name is Alice, I am 16 years old.\n",
    "\n",
    "My grade is A.\n"
   ]
  },
  {
   "cell_type": "code",
   "execution_count": 72,
   "id": "15ca4300-e85b-4f44-a76b-21bd65702c26",
   "metadata": {},
   "outputs": [],
   "source": [
    "class Student:\n",
    "    def __init__(self, name, grade, age):\n",
    "        self.name = name\n",
    "        self.grade = grade\n",
    "        self.age = age\n",
    "    def introduce(self):\n",
    "        print(f\"My name is {self.name}, I am {self.age} years old.\")\n",
    "    \n",
    "    def show_grade(self):\n",
    "        print(f\"My grade is {self.grade}.\")"
   ]
  },
  {
   "cell_type": "code",
   "execution_count": 74,
   "id": "98725f80-392f-4ba3-9cc3-cab12fac913c",
   "metadata": {},
   "outputs": [
    {
     "name": "stdout",
     "output_type": "stream",
     "text": [
      "My name is alice, I am 16 years old.\n",
      "My grade is A.\n"
     ]
    }
   ],
   "source": [
    "students = Student(\"alice\", \"A\", 16)\n",
    "students.introduce()\n",
    "students.show_grade()"
   ]
  },
  {
   "cell_type": "markdown",
   "id": "525dd92f-d478-42fe-b48f-705262d24ee3",
   "metadata": {},
   "source": [
    "Q9:\n",
    "\n",
    "Define a class named Light with two methods:\n",
    "\n",
    "turn_on() — prints: \"The light is now ON.\"\n",
    "\n",
    "check_status() — prints: \"The light is bright and working.\"\n",
    "\n",
    "Create an object of the Light class and call both methods.\n",
    "\n",
    "Expected Output:\n",
    "\n",
    "The light is now ON.\n",
    "\n",
    "The light is bright and working."
   ]
  },
  {
   "cell_type": "code",
   "execution_count": 62,
   "id": "d0f30269-f14f-48e5-9a81-6acac94502d4",
   "metadata": {},
   "outputs": [],
   "source": [
    "class Light:\n",
    "    def trun_on(self):\n",
    "        print(\"The light is now ON.\")\n",
    "    def check_status(self):\n",
    "        print(\"The light is bright and working.\")"
   ]
  },
  {
   "cell_type": "code",
   "execution_count": 65,
   "id": "3d9f5364-f04e-45b8-bda6-fc6980562431",
   "metadata": {},
   "outputs": [
    {
     "name": "stdout",
     "output_type": "stream",
     "text": [
      "The light is now ON.\n",
      "The light is bright and working.\n"
     ]
    }
   ],
   "source": [
    "light = Light()\n",
    "light.trun_on()\n",
    "light.check_status()"
   ]
  },
  {
   "cell_type": "markdown",
   "id": "229582cf-8c57-44e9-89e5-ab363c727f0d",
   "metadata": {},
   "source": [
    "Q10:\n",
    "\n",
    "available_slots = [101, 102, 103, 104, 105]\n",
    "\n",
    "reserved =  [106, 107, 108, 109, 110]\n",
    "\n",
    "You manage a parking lot with two lists:\n",
    "\n",
    "available_slots — parking slots that are free and can be reserved.\n",
    "\n",
    "reserved — parking slots that are already taken.\n",
    "\n",
    "Write a program that:\n",
    "\n",
    "Asks the user to enter a parking slot number they want to reserve.\n",
    "\n",
    "Checks the slot number:\n",
    "\n",
    "If the slot is in available_slots, confirm the reservation by printing:\n",
    "\n",
    "\"Slot {slot} is reserved for you.\"\n",
    "\n",
    "If the slot is in reserved, print:\n",
    "\n",
    "\"Slot {slot} is already reserved by someone else.\"\n",
    "\n",
    "If the slot is not in either list, print:\n",
    "\n",
    "\"Slot {slot} does not exist.\"\n",
    "\n",
    "Handles invalid input (non-integer) with an error message:\n",
    "\n",
    "\"Invalid input. Please enter a valid slot number.\"\n",
    "\n",
    "Expected Output:\n",
    "\n",
    "- Enter the parking slot number you want to reserve: 103\n",
    "\n",
    "    Slot 103 is reserved for you.\n",
    "\n",
    "- Enter the parking slot number you want to reserve: 107\n",
    "\n",
    "    Slot 107 is already reserved by someone else.\n",
    "\n",
    "- Enter the parking slot number you want to reserve: 999\n",
    "\n",
    "    Slot 999 does not exist.\n",
    "\n",
    "- Enter the parking slot number you want to reserve: abc\n",
    "\n",
    "  Invalid input. Please enter a valid slot number.\n"
   ]
  },
  {
   "cell_type": "code",
   "execution_count": 50,
   "id": "a99e6173-631a-4c7e-ad31-04cba55339cf",
   "metadata": {},
   "outputs": [],
   "source": [
    "available_slots = [101, 102, 103, 104, 105]\n",
    "\n",
    "reserved = [106, 107, 108, 109, 110]"
   ]
  },
  {
   "cell_type": "code",
   "execution_count": 56,
   "id": "c69b098c-daec-4a97-90cb-cce904132cf2",
   "metadata": {},
   "outputs": [],
   "source": [
    "def reserve_packing_slot():\n",
    "    try:\n",
    "        slot = int(input(\"Enter the packing slot number you want to reserve: \"))\n",
    "    except ValueError:\n",
    "        print(\"Invalid input.Please enter a valid slot number.\")\n",
    "    else:\n",
    "        if slot in available_slots:\n",
    "           available_slots.remove(slot)\n",
    "           reserved.append(slot)\n",
    "           print(f\"Slot{slot} is reserved for you.\")\n",
    "        elif slot in reserved:\n",
    "            print(f\"Slot {slot} is already reserved by someone else.\")\n",
    "        else:\n",
    "            print(f\"Slot {slot} dose not exist.\")\n",
    "        \n",
    "            "
   ]
  },
  {
   "cell_type": "code",
   "execution_count": 57,
   "id": "baaf38ea-efea-4b43-890a-a64ceeb4f538",
   "metadata": {},
   "outputs": [
    {
     "name": "stdin",
     "output_type": "stream",
     "text": [
      "Enter the packing slot number you want to reserve:  103\n"
     ]
    },
    {
     "name": "stdout",
     "output_type": "stream",
     "text": [
      "Slot103 is reserved for you.\n"
     ]
    }
   ],
   "source": [
    "reserve_packing_slot()"
   ]
  },
  {
   "cell_type": "code",
   "execution_count": 58,
   "id": "7b1ec6ab-191d-440d-bb7a-aa4f35466399",
   "metadata": {},
   "outputs": [
    {
     "name": "stdin",
     "output_type": "stream",
     "text": [
      "Enter the packing slot number you want to reserve:  107\n"
     ]
    },
    {
     "name": "stdout",
     "output_type": "stream",
     "text": [
      "Slot 107 is already reserved by someone else.\n"
     ]
    }
   ],
   "source": [
    "reserve_packing_slot()"
   ]
  },
  {
   "cell_type": "code",
   "execution_count": 59,
   "id": "ecc777ae-51bb-4a94-840c-2020466f2992",
   "metadata": {},
   "outputs": [
    {
     "name": "stdin",
     "output_type": "stream",
     "text": [
      "Enter the packing slot number you want to reserve:  999\n"
     ]
    },
    {
     "name": "stdout",
     "output_type": "stream",
     "text": [
      "Slot 999 dose not exist.\n"
     ]
    }
   ],
   "source": [
    "reserve_packing_slot()"
   ]
  },
  {
   "cell_type": "code",
   "execution_count": 60,
   "id": "1f3c9b10-c18b-4eda-a2dc-f6bdfc991edd",
   "metadata": {},
   "outputs": [
    {
     "name": "stdin",
     "output_type": "stream",
     "text": [
      "Enter the packing slot number you want to reserve:  abc\n"
     ]
    },
    {
     "name": "stdout",
     "output_type": "stream",
     "text": [
      "Invalid input.Please enter a valid slot number.\n"
     ]
    }
   ],
   "source": [
    "reserve_packing_slot()"
   ]
  }
 ],
 "metadata": {
  "kernelspec": {
   "display_name": "Python 3 (ipykernel)",
   "language": "python",
   "name": "python3"
  },
  "language_info": {
   "codemirror_mode": {
    "name": "ipython",
    "version": 3
   },
   "file_extension": ".py",
   "mimetype": "text/x-python",
   "name": "python",
   "nbconvert_exporter": "python",
   "pygments_lexer": "ipython3",
   "version": "3.13.5"
  }
 },
 "nbformat": 4,
 "nbformat_minor": 5
}
