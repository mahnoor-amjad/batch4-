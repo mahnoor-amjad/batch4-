{
 "cells": [
  {
   "cell_type": "markdown",
   "id": "94b44a26-a3e1-40b6-a2f8-5288da630659",
   "metadata": {},
   "source": [
    "Q1. Write a Python function called add_numbers that takes two numbers as arguments and returns their sum. Then, test the function by calling it with two numbers of your choice.\n"
   ]
  },
  {
   "cell_type": "code",
   "execution_count": 1,
   "id": "237114c7-307c-4d95-bf91-0ba4e128e089",
   "metadata": {},
   "outputs": [],
   "source": [
    "num1 = 5\n",
    "num2 = 3"
   ]
  },
  {
   "cell_type": "code",
   "execution_count": 2,
   "id": "d8aa78aa-6ca6-440e-9c61-a4bcd73dca63",
   "metadata": {},
   "outputs": [],
   "source": [
    "def add_numbers(num1, num2):\n",
    "    return num1 + num2"
   ]
  },
  {
   "cell_type": "code",
   "execution_count": 3,
   "id": "061a841f-757a-4b53-8437-65ac6eee2869",
   "metadata": {},
   "outputs": [
    {
     "name": "stdout",
     "output_type": "stream",
     "text": [
      "Thew sum of 5 and 3 is: 8\n"
     ]
    }
   ],
   "source": [
    "result = add_numbers(num1, num2)\n",
    "print(f\"Thew sum of {num1} and {num2} is: {result}\")"
   ]
  },
  {
   "cell_type": "markdown",
   "id": "2df82858-cc42-45be-b4d8-a6d24073bb06",
   "metadata": {},
   "source": [
    "Q2. Write a Python function count_vowels that accepts a string and returns the number of vowels a, e, i, o, u, A, E, I, O, U in that string.\n",
    "\n",
    "- Example: 'Welcome'\n",
    "- Output: 3 vowels"
   ]
  },
  {
   "cell_type": "code",
   "execution_count": 4,
   "id": "a498d531-e87c-4d41-ab7c-90c59b4922e1",
   "metadata": {},
   "outputs": [],
   "source": [
    "vowels = \"aeio\"\n",
    "count = 0"
   ]
  },
  {
   "cell_type": "code",
   "execution_count": 5,
   "id": "a74e5f0c-5f8a-4058-b69e-a1cf69185c7a",
   "metadata": {},
   "outputs": [],
   "source": [
    "def count_vowels(text):\n",
    "    for char in text:\n",
    "        if char in vowels:\n",
    "            count =+ 1\n",
    "    return count"
   ]
  },
  {
   "cell_type": "code",
   "execution_count": 21,
   "id": "eb03a0e2-c731-40f5-9beb-d05ecea6003f",
   "metadata": {},
   "outputs": [
    {
     "name": "stdout",
     "output_type": "stream",
     "text": [
      "'Welcome' contains 1vowels\n"
     ]
    }
   ],
   "source": [
    "test_string = 'Welcome'\n",
    "vowel_count = count_vowels(test_string)\n",
    "print(f\"'{test_string}' contains {vowel_count}vowels\")"
   ]
  },
  {
   "cell_type": "markdown",
   "id": "14ada7c2-26ff-467b-9856-2bae9d7b673f",
   "metadata": {},
   "source": [
    "Q3. Create a Python function called currency_converter() that takes two arguments:\n",
    "\n",
    "- amount: The amount of money to be converted (in USD).\n",
    "- exchange_rate (default is 280): The conversion rate from USD to another currency (e.g., PKR). You can assume the default rate is 1 USD = 280 PKR.\n",
    "- \n",
    "The function should return a message showing how much the given amount is worth in the target currency (PKR).\n",
    "\n",
    "Expected Output:\n",
    "\n",
    "'100 USD is equivalent to 28000 PKR'"
   ]
  },
  {
   "cell_type": "code",
   "execution_count": 6,
   "id": "acc53970-cef0-479b-9968-e5c9e66787eb",
   "metadata": {},
   "outputs": [
    {
     "name": "stdout",
     "output_type": "stream",
     "text": [
      "===Currency Converter tests ===\n"
     ]
    }
   ],
   "source": [
    "def currency_converter(amount, exchange_rate=280):\n",
    "    converted_amount = amount * exchange_rate\n",
    "    return f\"{amount} USD is equivalent to {converted_amount} PKR\"\n",
    "print(\"===Currency Converter tests ===\")"
   ]
  },
  {
   "cell_type": "code",
   "execution_count": 7,
   "id": "78f2ef8c-0b8e-4cd4-8bb6-92a4fef8377b",
   "metadata": {},
   "outputs": [
    {
     "name": "stdout",
     "output_type": "stream",
     "text": [
      "100 USD is equivalent to 28000 PKR\n"
     ]
    }
   ],
   "source": [
    "result1 = currency_converter(100)\n",
    "print(result1)"
   ]
  },
  {
   "cell_type": "markdown",
   "id": "2be859c9-23bb-4cff-abee-092295757847",
   "metadata": {},
   "source": [
    "Q4. Write a Python function display_student_info that accepts the following details about a student:\n",
    "\n",
    "- name (Keyword argument): The name of the student.\n",
    "- age (Keyword argument): The age of the student.\n",
    "- grade (Keyword argument): The grade the student is in.\n",
    "- school (Keyword argument): The name of the school the student attends.\n",
    "\n",
    "Expected Output:\n",
    "\n",
    "- Name: John Doe\n",
    "- Age: 15\n",
    "- Grade: 10th\n",
    "- School: Greenwood High"
   ]
  },
  {
   "cell_type": "code",
   "execution_count": 8,
   "id": "49a347d1-9628-4292-80a4-b340b8ef5f72",
   "metadata": {},
   "outputs": [],
   "source": [
    "def display_student_info(**kwargs):\n",
    "    name = kwargs.get('name', 'Not provided')\n",
    "    age = kwargs.get('age', 'Not provided')\n",
    "    grade = kwargs.get('grade', 'Not provided')\n",
    "    school = kwargs.get('school', 'Not provided')\n",
    "    "
   ]
  },
  {
   "cell_type": "code",
   "execution_count": 9,
   "id": "f16eff42-bf6b-4a71-bbcb-6bd62a26720f",
   "metadata": {},
   "outputs": [
    {
     "name": "stdout",
     "output_type": "stream",
     "text": [
      "Student Information:\n",
      "Name: John Doe\n",
      "Age: 15\n",
      "Grade: 10th\n",
      "School: Greenwood High\n"
     ]
    }
   ],
   "source": [
    "print(\"Student Information:\")\n",
    "print(f\"Name: {'John Doe'}\")\n",
    "print(f\"Age: {'15'}\")\n",
    "print(f\"Grade: {'10th'}\")\n",
    "print(f\"School: {'Greenwood High'}\")"
   ]
  },
  {
   "cell_type": "markdown",
   "id": "6fa029c5-095c-463f-b29d-ff8469cbdfea",
   "metadata": {},
   "source": [
    "Q5. Write a Python function calculate_price that accepts two positional arguments:\n",
    "\n",
    "- price: The price of a single item.\n",
    "- quantity: The number of items bought.\n",
    "- The function should return the total price by multiplying price and quantity.\n"
   ]
  },
  {
   "cell_type": "code",
   "execution_count": 10,
   "id": "6d1ebe93-b156-4f96-a6ad-921b0aee80cf",
   "metadata": {},
   "outputs": [],
   "source": [
    "def calulate_price(price, quantity):\n",
    "    return price * quantity"
   ]
  },
  {
   "cell_type": "code",
   "execution_count": 11,
   "id": "aaddb02a-270e-4150-895e-f4c337839059",
   "metadata": {},
   "outputs": [
    {
     "name": "stdout",
     "output_type": "stream",
     "text": [
      "50\n"
     ]
    }
   ],
   "source": [
    "print(calulate_price(10 , 5))"
   ]
  },
  {
   "cell_type": "markdown",
   "id": "b0952c84-56d3-478a-8772-ba5434fc4f2f",
   "metadata": {},
   "source": [
    "Q6. Write a Python function display_prices that takes a product name and an arbitrary number of keyword arguments representing product prices. The function should display each product and its price.\n",
    "\n",
    "Expected Output:\n",
    "\n",
    "Product: Laptop\n",
    "\n",
    "Amazon: $800\n",
    "\n",
    "eBay: $750\n",
    "\n",
    "Walmart: $780"
   ]
  },
  {
   "cell_type": "code",
   "execution_count": 12,
   "id": "1d1c6c44-302e-4eb7-926b-61782ed80f5e",
   "metadata": {},
   "outputs": [],
   "source": [
    "def display_prices(product_name, ** prices):\n",
    "    print(f\"Product: {product_name}\")\n",
    "    for platform, price in prices.items():\n",
    "        print(f\"{platform}: ${price}\")"
   ]
  },
  {
   "cell_type": "code",
   "execution_count": 13,
   "id": "52231f7b-f3c0-4cd4-9177-5b6b403aa9fb",
   "metadata": {},
   "outputs": [
    {
     "name": "stdout",
     "output_type": "stream",
     "text": [
      "Product: Laptop\n",
      "Aamzon: $800\n",
      "eBay: $750\n",
      "Walmart: $780\n"
     ]
    }
   ],
   "source": [
    "display_prices('Laptop',\n",
    "Aamzon=800, eBay=750,\n",
    "Walmart=780)"
   ]
  },
  {
   "cell_type": "markdown",
   "id": "18d9013b-c0e4-4e14-82e7-6c0d03917322",
   "metadata": {},
   "source": [
    "Q7. Write a Python function find_max that takes arbitrary number of positional arguments and returns the maximum number."
   ]
  },
  {
   "cell_type": "code",
   "execution_count": 14,
   "id": "2c451139-1864-4342-a78d-3a66274f6ed9",
   "metadata": {},
   "outputs": [],
   "source": [
    "def find_max(*numbers):\n",
    "    return max(numbers)"
   ]
  },
  {
   "cell_type": "code",
   "execution_count": 15,
   "id": "16ec0288-a366-4644-bac8-698c0a3aa74d",
   "metadata": {},
   "outputs": [
    {
     "name": "stdout",
     "output_type": "stream",
     "text": [
      "50\n"
     ]
    }
   ],
   "source": [
    "print(find_max(10, 20, 30,40,50))"
   ]
  },
  {
   "cell_type": "markdown",
   "id": "5d99ddf7-24ba-4bc6-87fe-7ccabcdebeb4",
   "metadata": {},
   "source": [
    "Q8. \n",
    "\n",
    "Write a Python function calculate_rectangle that accepts the length and width of a rectangle as arguments. Inside this function, create two nested functions:\n",
    "\n",
    "- calculate_area: This function should calculate the area of the rectangle.\n",
    "- calculate_perimeter: This function should calculate the perimeter of the rectangle.\n",
    "- The main function should return both the area and the perimeter of the rectangle.\n",
    "\n",
    "Expected Output:\n",
    "\n",
    "Area: 15\n",
    "\n",
    "Perimeter: 16\n"
   ]
  },
  {
   "cell_type": "code",
   "execution_count": 16,
   "id": "1f9d9214-add5-49e1-9f7c-8d82bfc73f26",
   "metadata": {},
   "outputs": [
    {
     "name": "stdout",
     "output_type": "stream",
     "text": [
      "Area: None \n",
      "Perimeter: 16\n"
     ]
    }
   ],
   "source": [
    "def calulate_rectangle(length, width):\n",
    "    def calulate_area():\n",
    "        retrun = length * width\n",
    "    def calulate_perimeter():\n",
    "        return 2 * (length + width)\n",
    "    area = calulate_area()\n",
    "    perimeter = calulate_perimeter()\n",
    "    return f\"Area: {area} \\nPerimeter: {perimeter}\"\n",
    "print(calulate_rectangle(3, 5))\n"
   ]
  },
  {
   "cell_type": "markdown",
   "id": "a668489b-a207-48a6-904e-fb7c2859e04d",
   "metadata": {},
   "source": [
    "Q9. Write a Python function taxi_fare(distance, rate=100) that calculates the taxi fare.\n",
    "The default rate is 100 PKR per km, but the user can also enter a custom rate.\n",
    "\n",
    "FORMULA: distance * rate\n",
    "\n",
    "Expected Output:\n",
    "\n",
    "- Taxi fare for 10 km = 1000 PKR (using default parameter)\n",
    "- Taxi fare for 15 km = 1800 PKR (custom rate)"
   ]
  },
  {
   "cell_type": "code",
   "execution_count": 17,
   "id": "c46abd57-cbf0-4eea-8dd0-cbc3a6012000",
   "metadata": {},
   "outputs": [],
   "source": [
    "def taxi_fare(distance, rate=100):\n",
    "    fare = distance * rate\n",
    "    return f\"Taxi fare for {distance} km = {fare} PKR\""
   ]
  },
  {
   "cell_type": "code",
   "execution_count": 18,
   "id": "b6f7c4a1-f105-472e-8517-a1b3c37bdc11",
   "metadata": {},
   "outputs": [
    {
     "name": "stdout",
     "output_type": "stream",
     "text": [
      "Taxi fare for 10 km = 1000 PKR\n",
      "Taxi fare for 15 km = 1800 PKR\n"
     ]
    }
   ],
   "source": [
    "print(taxi_fare(10))\n",
    "print(taxi_fare(15, 120))"
   ]
  },
  {
   "cell_type": "markdown",
   "id": "ed779581-c1bc-45a5-8971-687391e077a2",
   "metadata": {},
   "source": [
    "Q10.\n",
    "\n",
    "Write a Python function shopping_bill(price, quantity, discount=0) that uses nested functions:\n",
    "\n",
    "- An inner function calculate_total() → multiplies price * quantity.\n",
    "- An inner function apply_discount(total) → subtracts discount from total (but never below 0).\n",
    "\n",
    "The outer function should return the final bill amount.\n",
    "\n",
    "Expected Output:\n",
    "\n",
    "- Final Bill = 600 PKR (no discount)\n",
    "- Final Bill = 500 PKR (with discount)"
   ]
  },
  {
   "cell_type": "code",
   "execution_count": 19,
   "id": "ee0ac957-86e2-49bc-adc3-861ac984d055",
   "metadata": {},
   "outputs": [],
   "source": [
    "def shopping_bill(price, quantity, discount=0):\n",
    "    def calculate_total():\n",
    "        return price * quantity"
   ]
  },
  {
   "cell_type": "code",
   "execution_count": 20,
   "id": "cc1e8ceb-2efd-48f0-b55b-a371c15a5f1a",
   "metadata": {},
   "outputs": [],
   "source": [
    "def apply_discount(total_amount):\n",
    "    discounted_amount = total_amount - discount\n",
    "    return max(discounted_amount, 0)"
   ]
  },
  {
   "cell_type": "code",
   "execution_count": 21,
   "id": "41bfc859-bda5-4e9c-a882-06074b5aaa8a",
   "metadata": {},
   "outputs": [
    {
     "ename": "NameError",
     "evalue": "name 'discount' is not defined",
     "output_type": "error",
     "traceback": [
      "\u001b[1;31m---------------------------------------------------------------------------\u001b[0m",
      "\u001b[1;31mNameError\u001b[0m                                 Traceback (most recent call last)",
      "Cell \u001b[1;32mIn[21], line 2\u001b[0m\n\u001b[0;32m      1\u001b[0m total_before_discount \u001b[38;5;241m=\u001b[39m \u001b[38;5;124m'\u001b[39m\u001b[38;5;124mcalculate_total\u001b[39m\u001b[38;5;124m'\u001b[39m\n\u001b[1;32m----> 2\u001b[0m final_bill \u001b[38;5;241m=\u001b[39m apply_discount(total_before_discount)\n\u001b[0;32m      4\u001b[0m \u001b[38;5;28;01mreturn\u001b[39;00m final_bill\n",
      "Cell \u001b[1;32mIn[20], line 2\u001b[0m, in \u001b[0;36mapply_discount\u001b[1;34m(total_amount)\u001b[0m\n\u001b[0;32m      1\u001b[0m \u001b[38;5;28;01mdef\u001b[39;00m\u001b[38;5;250m \u001b[39m\u001b[38;5;21mapply_discount\u001b[39m(total_amount):\n\u001b[1;32m----> 2\u001b[0m     discounted_amount \u001b[38;5;241m=\u001b[39m total_amount \u001b[38;5;241m-\u001b[39m discount\n\u001b[0;32m      3\u001b[0m     \u001b[38;5;28;01mreturn\u001b[39;00m \u001b[38;5;28mmax\u001b[39m(discounted_amount, \u001b[38;5;241m0\u001b[39m)\n",
      "\u001b[1;31mNameError\u001b[0m: name 'discount' is not defined"
     ]
    }
   ],
   "source": [
    "total_before_discount = 'calculate_total'\n",
    "final_bill = apply_discount(total_before_discount)\n",
    "\n",
    "return final_bill"
   ]
  },
  {
   "cell_type": "code",
   "execution_count": 23,
   "id": "0f6dce26-23d8-440d-871f-9c5286747026",
   "metadata": {},
   "outputs": [
    {
     "name": "stdout",
     "output_type": "stream",
     "text": [
      "None\n",
      "None\n"
     ]
    }
   ],
   "source": [
    "print(shopping_bill(100, 6))\n",
    "print(shopping_bill(100, 6, 100))"
   ]
  }
 ],
 "metadata": {
  "kernelspec": {
   "display_name": "Python 3 (ipykernel)",
   "language": "python",
   "name": "python3"
  },
  "language_info": {
   "codemirror_mode": {
    "name": "ipython",
    "version": 3
   },
   "file_extension": ".py",
   "mimetype": "text/x-python",
   "name": "python",
   "nbconvert_exporter": "python",
   "pygments_lexer": "ipython3",
   "version": "3.13.5"
  }
 },
 "nbformat": 4,
 "nbformat_minor": 5
}
