{
 "cells": [
  {
   "cell_type": "markdown",
   "id": "7e777340-fcd5-4c13-9ae0-e80ade2b8a3a",
   "metadata": {},
   "source": [
    "Q1. Write a Python program that prints the multiplication table for a given number (between 1 and 10) using a for loop.\n",
    "\n",
    "Hint:\n",
    "\n",
    "Ask the user for a number between 1 and 10 .\n",
    "Use a for loop to iterate through the numbers from 1 to 10.\n",
    "For each iteration, calculate the product of the given number and the current number in the loop.\n",
    "Print the result in a readable format (e.g., 5 x 1 = 5).\n",
    "Ensure the program works correctly for any number between 1 and 10.\n",
    "Output Hint:\n",
    "\n",
    "- 4 x 1 = 4\n",
    "- 4 x 2 = 8\n",
    "- 4 x 3 = 12\n",
    "- 4 x 4 = 16\n",
    "- 4 x 5 = 20\n",
    "- 4 x 6 = 24\n",
    "- 4 x 7 = 28\n",
    "- 4 x 8 = 32\n",
    "- 4 x 9 = 36\n",
    "- 4 x 10 = 40"
   ]
  },
  {
   "cell_type": "code",
   "execution_count": 1,
   "id": "c568e9da-80a4-4375-aee9-1ccc6cc89c22",
   "metadata": {},
   "outputs": [
    {
     "name": "stdout",
     "output_type": "stream",
     "text": [
      "2 * 1 = 2\n",
      "2 * 2 = 4\n",
      "2 * 3 = 6\n",
      "2 * 4 = 8\n",
      "2 * 5 = 10\n",
      "2 * 6 = 12\n",
      "2 * 7 = 14\n",
      "2 * 8 = 16\n",
      "2 * 9 = 18\n",
      "2 * 10 = 20\n"
     ]
    }
   ],
   "source": [
    "for i in range(1,11):\n",
    "    print(f\"2 * {i} = {2*i}\")"
   ]
  },
  {
   "cell_type": "markdown",
   "id": "93c6d6ba-b4ef-4284-a0e9-9db6eaf2a2cf",
   "metadata": {},
   "source": [
    "Q2. Stop sending emails after 3 users (Using for loop and break)\n",
    "\n",
    "users = [\"Ali\", \"Sara\", \"John\", \"Zara\", \"Mike\"]\n",
    "\n",
    "Output:\n",
    "\n",
    "Email sent to Ali\n",
    "\n",
    "Email sent to Sara\n",
    "\n",
    "Email sent to John\n",
    "\n",
    "Limit reached. Stop sending emails."
   ]
  },
  {
   "cell_type": "code",
   "execution_count": 2,
   "id": "884a50ed-65cf-4edc-943d-9c10368f2057",
   "metadata": {},
   "outputs": [],
   "source": [
    "users = [\"Ali\", \"Sara\", \"John\", \"Zara\", \"Mike\"]"
   ]
  },
  {
   "cell_type": "code",
   "execution_count": 3,
   "id": "48606c37-5061-4477-96a8-46ffa3d1c49b",
   "metadata": {},
   "outputs": [
    {
     "name": "stdout",
     "output_type": "stream",
     "text": [
      "Email sent to Ali\n",
      "Email sent to Sara\n",
      "Email sent to John\n",
      "Limit reached. Stop sending emails.\n"
     ]
    }
   ],
   "source": [
    "for x, user in enumerate(users):\n",
    "    if x >= 3:\n",
    "        print(\"Limit reached. Stop sending emails.\")\n",
    "        break\n",
    "    print(f\"Email sent to {user}\")"
   ]
  },
  {
   "cell_type": "markdown",
   "id": "fa38e056-f606-41d9-8748-2209cb4eaad7",
   "metadata": {},
   "source": [
    "Q3. Stop monitoring temperature if critical temperature reached (Using for loop and break)\n",
    "\n",
    "temps = [22, 25, 30, 45, 28]\n",
    "critical = 40\n",
    "\n",
    "Ouput:\n",
    "\n",
    "Temperature: 22\n",
    "\n",
    "Temperature: 25\n",
    "\n",
    "Temperature: 30\n",
    "\n",
    "Critical temperature reached! Stop monitoring."
   ]
  },
  {
   "cell_type": "code",
   "execution_count": 4,
   "id": "85643cc9-2d96-4821-8d4d-c738e6e00412",
   "metadata": {},
   "outputs": [],
   "source": [
    "temps = [22, 25, 30, 45, 28]\n",
    "critical = 40"
   ]
  },
  {
   "cell_type": "code",
   "execution_count": 5,
   "id": "33971743-0e01-4730-a6a6-16f004bdc4c9",
   "metadata": {},
   "outputs": [
    {
     "name": "stdout",
     "output_type": "stream",
     "text": [
      "Current temperature: 22C\n",
      "Current temperature: 25C\n",
      "Current temperature: 30C\n",
      "Current temperature: 45C\n",
      "Critical temperature reached: 45C\n",
      "Stopping monitoring\n"
     ]
    }
   ],
   "source": [
    "for temp in temps:\n",
    "    print(f\"Current temperature: {temp}C\")\n",
    "    if temp >= critical:\n",
    "        print(f\"Critical temperature reached: {temp}C\")\n",
    "        print(\"Stopping monitoring\")\n",
    "        break\n",
    "else:\n",
    "    print(\"All temperatures within safe range.\")"
   ]
  },
  {
   "cell_type": "markdown",
   "id": "7f5bbc99-28e7-4866-b306-58221f72076c",
   "metadata": {},
   "source": [
    "Q4. Calculate total price of items in a shopping cart (Using For loop)\n",
    "\n",
    "cart = [100, 250, 50, 300]\n",
    "\n",
    "Output:\n",
    "\n",
    "Total Price: 700"
   ]
  },
  {
   "cell_type": "code",
   "execution_count": 6,
   "id": "fb967aa1-dd98-4010-873c-e529225f5c6e",
   "metadata": {},
   "outputs": [],
   "source": [
    "cart = [100, 250, 50, 300]\n",
    "total = 700"
   ]
  },
  {
   "cell_type": "code",
   "execution_count": 7,
   "id": "b3036f7d-acbd-4f11-a5ca-df3b5e4a847a",
   "metadata": {},
   "outputs": [
    {
     "name": "stdout",
     "output_type": "stream",
     "text": [
      "Item 1: $100\n",
      "Item 2: $250\n",
      "Item 3: $50\n",
      "Item 4: $300\n",
      "____________________\n",
      "total price: $700\n"
     ]
    }
   ],
   "source": [
    "for z, price in enumerate(cart, 1):\n",
    "    print(f\"Item {z}: ${price}\")\n",
    "    total == price\n",
    "print (\"_\" * 20)\n",
    "print(f\"total price: ${total}\")"
   ]
  },
  {
   "cell_type": "markdown",
   "id": "d01d8825-6b0a-44f5-962f-f805700a8e08",
   "metadata": {},
   "source": [
    "Q5. Skip customers with unpaid bills (Using For loop and continue)\n",
    "\n",
    "customers = [\n",
    "    {\"name\": \"Ali\", \"paid\": True},\n",
    "    \n",
    "    {\"name\": \"Sara\", \"paid\": False},\n",
    "    \n",
    "    {\"name\": \"John\", \"paid\": True}\n",
    "]\n",
    "\n",
    "\n",
    "Output:\n",
    "\n",
    "Access granted to: Ali\n",
    "\n",
    "Access granted to: John\n"
   ]
  },
  {
   "cell_type": "code",
   "execution_count": 8,
   "id": "e9e3f823-be19-4781-823a-869b6fbee2cc",
   "metadata": {},
   "outputs": [],
   "source": [
    "customers = [ {\"name\": \"Ali\", \"paid\": True},\n",
    "\n",
    "{\"name\": \"Sara\", \"paid\": False},\n",
    "\n",
    "{\"name\": \"John\", \"paid\": True}\n",
    "]"
   ]
  },
  {
   "cell_type": "code",
   "execution_count": 9,
   "id": "5f7923f6-7b6e-4cad-b4e0-025ce359e28b",
   "metadata": {},
   "outputs": [
    {
     "name": "stdout",
     "output_type": "stream",
     "text": [
      "Processing customer: Ali (Paid: True)\n",
      "Processing customer: John (Paid: True)\n",
      "\n",
      "All paid customers have been processed.\n"
     ]
    }
   ],
   "source": [
    "for customer in customers:\n",
    "    if not customer[\"paid\"]:\n",
    "        continue\n",
    "    print(f\"Processing customer: {customer['name']} (Paid: {customer['paid']})\")\n",
    "print(\"\\nAll paid customers have been processed.\")"
   ]
  },
  {
   "cell_type": "markdown",
   "id": "f6cfe812-c319-40e5-ac17-cef6e72488dd",
   "metadata": {},
   "source": [
    "Q6. Send personalized emails to a list of users (Using for loop)\n",
    "\n",
    "users = [\"Ali\", \"Sara\", \"John\"]\n",
    "\n",
    "Output:\n",
    "\n",
    "- Hello Ali, your subscription is active!\n",
    "- Hello Sara, your subscription is active!\n",
    "- Hello John, your subscription is active!\n"
   ]
  },
  {
   "cell_type": "code",
   "execution_count": 10,
   "id": "3530ef6d-b3a5-4c25-a333-ff68d1290f75",
   "metadata": {},
   "outputs": [],
   "source": [
    "users = [\"Ali\", \"Sara\", \"John\"]"
   ]
  },
  {
   "cell_type": "code",
   "execution_count": 11,
   "id": "04b95e9c-32ec-466c-92a9-3db17c6b44cd",
   "metadata": {},
   "outputs": [
    {
     "name": "stdout",
     "output_type": "stream",
     "text": [
      "hello Ali, your subscription is active!\n",
      "hello Sara, your subscription is active!\n",
      "hello John, your subscription is active!\n"
     ]
    }
   ],
   "source": [
    "for user in users:\n",
    "    print(f\"hello {user}, your subscription is active!\")"
   ]
  },
  {
   "cell_type": "markdown",
   "id": "8ac2616e-f0fb-433f-a1c5-0adf73e50429",
   "metadata": {},
   "source": [
    "Q7. Extract domain names from email list (Using for loop)\n",
    "\n",
    "emails = [\"ali@gmail.com\", \"sara@yahoo.com\", \"john@hotmail.com\"]\n",
    "\n",
    "Output:\n",
    "\n",
    "domains: ['gmail.com', 'yahoo.com', 'hotmail.com']\n"
   ]
  },
  {
   "cell_type": "code",
   "execution_count": 12,
   "id": "63be5e14-fd67-4987-ae14-99c66b7e1e8d",
   "metadata": {},
   "outputs": [],
   "source": [
    "emails = [\"ali@gmail.com\", \"sara@yahoo.com\", \"john@hotmail.com\"]\n",
    "domains = []"
   ]
  },
  {
   "cell_type": "code",
   "execution_count": 14,
   "id": "7d95cd9b-2337-4d84-8898-d3d5f8ab6576",
   "metadata": {},
   "outputs": [
    {
     "name": "stdout",
     "output_type": "stream",
     "text": [
      "Email: ali@gmail.com -> Domain: gmail.com\n",
      "Email: sara@yahoo.com -> Domain: yahoo.com\n",
      "Email: john@hotmail.com -> Domain: hotmail.com\n",
      "\n",
      "Domains: ['gmail.com', 'yahoo.com', 'hotmail.com']\n"
     ]
    }
   ],
   "source": [
    "for email in emails:\n",
    "    domain = email.split('@')[1]\n",
    "    domains.append(domain)\n",
    "    print(f\"Email: {email} -> Domain: {domain}\")\n",
    "print(f\"\\nDomains: {domains}\")\n"
   ]
  },
  {
   "cell_type": "markdown",
   "id": "bc118672-58b5-44e3-8895-0685921efdda",
   "metadata": {},
   "source": [
    "Q8. Print only overdue tasks (Using for loop)\n",
    "\n",
    "tasks = [\n",
    "    {\"task\": \"Pay bills\", \"status\": \"done\"},\n",
    "    \n",
    "    {\"task\": \"Submit report\", \"status\": \"pending\"},\n",
    "    \n",
    "    {\"task\": \"Clean house\", \"status\": \"pending\"}\n",
    "]\n",
    "\n",
    "\n",
    "Ouput:\n",
    "\n",
    "Overdue: Submit report\n",
    "\n",
    "Overdue: Clean house"
   ]
  },
  {
   "cell_type": "code",
   "execution_count": 15,
   "id": "6da0a178-955f-4f93-aee1-5bcb000e55d7",
   "metadata": {},
   "outputs": [],
   "source": [
    "tasks = [ {\"task\": \"Pay bills\", \"status\": \"done\"},\n",
    "\n",
    "{\"task\": \"Submit report\", \"status\": \"pending\"},\n",
    "\n",
    "{\"task\": \"Clean house\", \"status\": \"pending\"}\n",
    "]"
   ]
  },
  {
   "cell_type": "code",
   "execution_count": 20,
   "id": "e38019a3-d83a-49f6-8b8f-72bdef26318f",
   "metadata": {},
   "outputs": [
    {
     "name": "stdout",
     "output_type": "stream",
     "text": [
      "Overdue: Submit report\n",
      "Overdue: Clean house\n"
     ]
    }
   ],
   "source": [
    "overdue_found = False\n",
    "for task in tasks:\n",
    "    if task[\"status\"] == \"pending\":\n",
    "        print(f\"Overdue: {task['task']}\")\n",
    "        overdue_found = True\n",
    "if not overdue_found:\n",
    "    print(\"No overdue tasks found.\")"
   ]
  },
  {
   "cell_type": "markdown",
   "id": "c3d3986b-d13f-4afd-829d-b7b1a6f8a526",
   "metadata": {},
   "source": [
    "Q9. Extract names of employees with salary above 50,000\n",
    "\n",
    "employees = [\n",
    "    {\"name\": \"Ali\", \"salary\": 60000},\n",
    "    \n",
    "    {\"name\": \"Sara\", \"salary\": 45000},\n",
    "    \n",
    "    {\"name\": \"John\", \"salary\": 70000}\n",
    "]\n",
    "\n",
    "\n",
    "Output:\n",
    "\n",
    "Ali earns above 50,000\n",
    "\n",
    "John earns above 50,000"
   ]
  },
  {
   "cell_type": "code",
   "execution_count": 21,
   "id": "48a8cd6b-ca69-4ead-af5c-920352caf6ee",
   "metadata": {},
   "outputs": [],
   "source": [
    "employees = [ {\"name\": \"Ali\", \"salary\": 60000},\n",
    "\n",
    "{\"name\": \"Sara\", \"salary\": 45000},\n",
    "\n",
    "{\"name\": \"John\", \"salary\": 70000}\n",
    "]"
   ]
  },
  {
   "cell_type": "code",
   "execution_count": 22,
   "id": "5f9dedb2-dcf4-4501-99f2-b599187a66d4",
   "metadata": {},
   "outputs": [
    {
     "name": "stdout",
     "output_type": "stream",
     "text": [
      "Ali earns above 50,000\n",
      "John earns above 50,000\n"
     ]
    }
   ],
   "source": [
    "for employee in employees:\n",
    "    if employee[\"salary\"] > 50000:\n",
    "        print(f\"{employee['name']} earns above 50,000\")"
   ]
  },
  {
   "cell_type": "markdown",
   "id": "f1db4dfb-ea09-4b1b-9383-28d7a5253f06",
   "metadata": {},
   "source": [
    "Q10. Skip weekends while printing workdays (Using for loop and continue)\n",
    "\n",
    "days = [\"Monday\", \"Tuesday\", \"Wednesday\", \"Thursday\", \"Friday\", \"Saturday\", \"Sunday\"]\n",
    "\n",
    "Output:\n",
    "\n",
    "Workday: Monday\n",
    "\n",
    "Workday: Tuesday\n",
    "\n",
    "Workday: Wednesday\n",
    "\n",
    "Workday: Thursday\n",
    "\n",
    "Workday: Friday\n"
   ]
  },
  {
   "cell_type": "code",
   "execution_count": 23,
   "id": "3909f284-36f9-401d-95b9-83d2a1b65f71",
   "metadata": {},
   "outputs": [],
   "source": [
    "days = [\"Monday\", \"Tuesday\", \"Wednesday\", \"Thursday\", \"Friday\", \"Saturday\", \"Sunday\"]"
   ]
  },
  {
   "cell_type": "raw",
   "id": "38abe766-6734-4077-9ec2-602cc11fee9f",
   "metadata": {},
   "source": []
  },
  {
   "cell_type": "code",
   "execution_count": 25,
   "id": "ab6dbb61-5921-4e0c-b73c-9bb8475eda53",
   "metadata": {},
   "outputs": [
    {
     "name": "stdout",
     "output_type": "stream",
     "text": [
      "Workdays (monday to friday):\n",
      "Monday\n",
      "Tuesday\n",
      "Wednesday\n",
      "Thursday\n",
      "Friday\n"
     ]
    }
   ],
   "source": [
    "print(\"Workdays (monday to friday):\")\n",
    "for day in days:\n",
    "    if day == \"Saturday\" or day == \"Sunday\":\n",
    "        continue\n",
    "    print(day)"
   ]
  },
  {
   "cell_type": "code",
   "execution_count": null,
   "id": "c32e54fe-c33a-494d-ba92-bd01aa2f9e00",
   "metadata": {},
   "outputs": [],
   "source": []
  }
 ],
 "metadata": {
  "kernelspec": {
   "display_name": "Python 3 (ipykernel)",
   "language": "python",
   "name": "python3"
  },
  "language_info": {
   "codemirror_mode": {
    "name": "ipython",
    "version": 3
   },
   "file_extension": ".py",
   "mimetype": "text/x-python",
   "name": "python",
   "nbconvert_exporter": "python",
   "pygments_lexer": "ipython3",
   "version": "3.13.5"
  }
 },
 "nbformat": 4,
 "nbformat_minor": 5
}
